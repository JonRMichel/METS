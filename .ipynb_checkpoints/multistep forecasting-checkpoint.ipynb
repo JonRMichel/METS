{
 "cells": [
  {
   "cell_type": "code",
   "execution_count": 2,
   "metadata": {},
   "outputs": [],
   "source": [
    "import numpy as np\n",
    "from scipy.linalg import expm, sinm, cosm\n",
    "import pandas as pd\n",
    "import matplotlib.pyplot as plt\n",
    "import statsmodels.api as sm\n",
    "import math\n",
    "from scipy.special import iv\n",
    "from statsmodels.tsa.arima.model import ARIMA\n",
    "import altair"
   ]
  },
  {
   "cell_type": "code",
   "execution_count": 3,
   "metadata": {},
   "outputs": [
    {
     "data": {
      "text/plain": [
       "array([ 0.94268234,  0.50826544, -0.07362215, -0.01884857, -0.98437091,\n",
       "       -1.18983002, -1.46748947, -0.98314701,  1.20098566,  0.19485077,\n",
       "        0.68162558,  2.32363936,  0.8308172 , -0.89649003, -1.57922082,\n",
       "        0.46761354, -1.64841927, -1.45449696,  0.20545959, -0.13554928,\n",
       "       -1.36335639, -0.30618637,  0.06177771, -0.36945069,  0.86932425])"
      ]
     },
     "execution_count": 3,
     "metadata": {},
     "output_type": "execute_result"
    }
   ],
   "source": [
    "ts = np.random.normal(0,1,25)"
   ]
  },
  {
   "cell_type": "code",
   "execution_count": 20,
   "metadata": {},
   "outputs": [],
   "source": [
    "rho = -.95\n",
    "L_approx = np.zeros([12,12])\n",
    "\n",
    "for row in range(0,11):\n",
    "    L_approx[row,row+1] =1\n",
    "    \n",
    "filter_matrix = expm(rho*L_approx)"
   ]
  },
  {
   "cell_type": "code",
   "execution_count": 37,
   "metadata": {},
   "outputs": [],
   "source": [
    "for index in range(0,len(ts)-12):\n",
    "    ts[index:index+12]"
   ]
  },
  {
   "cell_type": "code",
   "execution_count": 36,
   "metadata": {},
   "outputs": [
    {
     "data": {
      "text/plain": [
       "11"
      ]
     },
     "execution_count": 36,
     "metadata": {},
     "output_type": "execute_result"
    }
   ],
   "source": []
  },
  {
   "cell_type": "code",
   "execution_count": null,
   "metadata": {},
   "outputs": [],
   "source": []
  }
 ],
 "metadata": {
  "kernelspec": {
   "display_name": "Python 3",
   "language": "python",
   "name": "python3"
  },
  "language_info": {
   "codemirror_mode": {
    "name": "ipython",
    "version": 3
   },
   "file_extension": ".py",
   "mimetype": "text/x-python",
   "name": "python",
   "nbconvert_exporter": "python",
   "pygments_lexer": "ipython3",
   "version": "3.8.3"
  }
 },
 "nbformat": 4,
 "nbformat_minor": 4
}
