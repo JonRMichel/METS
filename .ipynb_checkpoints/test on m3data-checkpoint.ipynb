{
 "cells": [
  {
   "cell_type": "code",
   "execution_count": 1,
   "metadata": {},
   "outputs": [],
   "source": [
    "import numpy as np\n",
    "from scipy.linalg import expm, sinm, cosm\n",
    "import pandas as pd\n",
    "import matplotlib.pyplot as plt\n",
    "import statsmodels.api as sm\n",
    "import math\n",
    "from scipy.special import iv\n",
    "from statsmodels.tsa.arima.model import ARIMA"
   ]
  },
  {
   "cell_type": "code",
   "execution_count": 2,
   "metadata": {},
   "outputs": [],
   "source": [
    "def mets_filter(ts,rho,alpha):\n",
    "    ts_mean = np.mean(ts)\n",
    "    ts = np.append(ts,ts_mean)\n",
    "    sample_size = len(ts)\n",
    "    \n",
    "    L_approx = np.zeros([sample_size, sample_size])\n",
    "\n",
    "    for row in range(0,len(L_approx)-1):\n",
    "        L_approx[row][row+1] =1\n",
    "\n",
    "    L_approx[sample_size -1 ] = np.zeros(sample_size)\n",
    "    filter_matrix = expm(rho*L_approx)\n",
    "    \n",
    "    output = np.dot(filter_matrix,ts) + alpha\n",
    "\n",
    "    return output[:-1]\n",
    "\n",
    "\n",
    "def ols_mets(ts, grid_size):\n",
    "    sample_size = len(ts)\n",
    "    L_approx = np.zeros([sample_size, sample_size])\n",
    "\n",
    "    for row in range(0,len(L_approx)-1):\n",
    "        L_approx[row][row+1] =1\n",
    "    \n",
    "    min_rho =  0.0\n",
    "    filter_matrix = expm(min_rho*L_approx)\n",
    "    resid = np.dot(filter_matrix,ts)\n",
    "    min_alpha =  np.mean(resid)\n",
    "    min_obj = np.square(np.std(resid))\n",
    "    \n",
    "    for rho in np.linspace(-2,2,grid_size):\n",
    "        filter_matrix = expm(rho*L_approx)\n",
    "        resid =  np.dot(filter_matrix,ts)\n",
    "        alpha =  np.mean(resid)\n",
    "        obj = np.square(np.std(resid))\n",
    "        \n",
    "        if obj < min_obj:\n",
    "            min_alpha = alpha\n",
    "            min_rho = rho\n",
    "            min_obj = obj\n",
    "\n",
    "    return [min_alpha, min_rho, min_obj]    "
   ]
  },
  {
   "cell_type": "code",
   "execution_count": 15,
   "metadata": {},
   "outputs": [
    {
     "data": {
      "text/html": [
       "<div>\n",
       "<style scoped>\n",
       "    .dataframe tbody tr th:only-of-type {\n",
       "        vertical-align: middle;\n",
       "    }\n",
       "\n",
       "    .dataframe tbody tr th {\n",
       "        vertical-align: top;\n",
       "    }\n",
       "\n",
       "    .dataframe thead th {\n",
       "        text-align: right;\n",
       "    }\n",
       "</style>\n",
       "<table border=\"1\" class=\"dataframe\">\n",
       "  <thead>\n",
       "    <tr style=\"text-align: right;\">\n",
       "      <th></th>\n",
       "      <th>Series</th>\n",
       "      <th>N</th>\n",
       "      <th>NF</th>\n",
       "      <th>Category</th>\n",
       "      <th>Unnamed: 4</th>\n",
       "      <th>Unnamed: 5</th>\n",
       "      <th>1</th>\n",
       "      <th>2</th>\n",
       "      <th>3</th>\n",
       "      <th>4</th>\n",
       "      <th>...</th>\n",
       "      <th>95</th>\n",
       "      <th>96</th>\n",
       "      <th>97</th>\n",
       "      <th>98</th>\n",
       "      <th>99</th>\n",
       "      <th>100</th>\n",
       "      <th>101</th>\n",
       "      <th>102</th>\n",
       "      <th>103</th>\n",
       "      <th>104</th>\n",
       "    </tr>\n",
       "  </thead>\n",
       "  <tbody>\n",
       "    <tr>\n",
       "      <th>0</th>\n",
       "      <td>N2830</td>\n",
       "      <td>104</td>\n",
       "      <td>8</td>\n",
       "      <td>MICRO</td>\n",
       "      <td>0</td>\n",
       "      <td>0</td>\n",
       "      <td>3060.42</td>\n",
       "      <td>3021.19</td>\n",
       "      <td>3301.13</td>\n",
       "      <td>3287.03</td>\n",
       "      <td>...</td>\n",
       "      <td>4547.25</td>\n",
       "      <td>4542.51</td>\n",
       "      <td>4381.08</td>\n",
       "      <td>4405.63</td>\n",
       "      <td>4377.02</td>\n",
       "      <td>4371.18</td>\n",
       "      <td>4255.07</td>\n",
       "      <td>4285.44</td>\n",
       "      <td>4260.68</td>\n",
       "      <td>4249.63</td>\n",
       "    </tr>\n",
       "    <tr>\n",
       "      <th>1</th>\n",
       "      <td>N2831</td>\n",
       "      <td>104</td>\n",
       "      <td>8</td>\n",
       "      <td>MICRO</td>\n",
       "      <td>0</td>\n",
       "      <td>0</td>\n",
       "      <td>5000.00</td>\n",
       "      <td>4792.64</td>\n",
       "      <td>5302.50</td>\n",
       "      <td>5172.77</td>\n",
       "      <td>...</td>\n",
       "      <td>7198.34</td>\n",
       "      <td>7059.10</td>\n",
       "      <td>5875.23</td>\n",
       "      <td>6765.19</td>\n",
       "      <td>6546.78</td>\n",
       "      <td>6681.54</td>\n",
       "      <td>6130.36</td>\n",
       "      <td>6383.16</td>\n",
       "      <td>6225.59</td>\n",
       "      <td>6222.02</td>\n",
       "    </tr>\n",
       "    <tr>\n",
       "      <th>2</th>\n",
       "      <td>N2832</td>\n",
       "      <td>104</td>\n",
       "      <td>8</td>\n",
       "      <td>MICRO</td>\n",
       "      <td>0</td>\n",
       "      <td>0</td>\n",
       "      <td>1256.00</td>\n",
       "      <td>3075.00</td>\n",
       "      <td>3109.70</td>\n",
       "      <td>3317.50</td>\n",
       "      <td>...</td>\n",
       "      <td>8233.25</td>\n",
       "      <td>8104.00</td>\n",
       "      <td>5417.00</td>\n",
       "      <td>3876.50</td>\n",
       "      <td>5123.00</td>\n",
       "      <td>3364.50</td>\n",
       "      <td>1267.50</td>\n",
       "      <td>4154.50</td>\n",
       "      <td>5611.00</td>\n",
       "      <td>4646.50</td>\n",
       "    </tr>\n",
       "    <tr>\n",
       "      <th>3</th>\n",
       "      <td>N2833</td>\n",
       "      <td>104</td>\n",
       "      <td>8</td>\n",
       "      <td>MICRO</td>\n",
       "      <td>0</td>\n",
       "      <td>0</td>\n",
       "      <td>7310.00</td>\n",
       "      <td>5417.50</td>\n",
       "      <td>4907.00</td>\n",
       "      <td>4767.50</td>\n",
       "      <td>...</td>\n",
       "      <td>11781.25</td>\n",
       "      <td>8960.00</td>\n",
       "      <td>9340.00</td>\n",
       "      <td>9472.50</td>\n",
       "      <td>8052.50</td>\n",
       "      <td>8320.00</td>\n",
       "      <td>6662.50</td>\n",
       "      <td>7757.50</td>\n",
       "      <td>6345.00</td>\n",
       "      <td>5425.00</td>\n",
       "    </tr>\n",
       "    <tr>\n",
       "      <th>4</th>\n",
       "      <td>N2834</td>\n",
       "      <td>104</td>\n",
       "      <td>8</td>\n",
       "      <td>FINANCE</td>\n",
       "      <td>0</td>\n",
       "      <td>0</td>\n",
       "      <td>5303.23</td>\n",
       "      <td>5398.27</td>\n",
       "      <td>5377.98</td>\n",
       "      <td>5346.32</td>\n",
       "      <td>...</td>\n",
       "      <td>5284.89</td>\n",
       "      <td>5308.77</td>\n",
       "      <td>5305.43</td>\n",
       "      <td>5297.80</td>\n",
       "      <td>5300.67</td>\n",
       "      <td>5293.75</td>\n",
       "      <td>5321.88</td>\n",
       "      <td>5308.82</td>\n",
       "      <td>5308.56</td>\n",
       "      <td>5294.78</td>\n",
       "    </tr>\n",
       "  </tbody>\n",
       "</table>\n",
       "<p>5 rows × 110 columns</p>\n",
       "</div>"
      ],
      "text/plain": [
       "  Series    N  NF      Category  Unnamed: 4  Unnamed: 5        1        2  \\\n",
       "0  N2830  104   8  MICRO                  0           0  3060.42  3021.19   \n",
       "1  N2831  104   8  MICRO                  0           0  5000.00  4792.64   \n",
       "2  N2832  104   8  MICRO                  0           0  1256.00  3075.00   \n",
       "3  N2833  104   8  MICRO                  0           0  7310.00  5417.50   \n",
       "4  N2834  104   8  FINANCE                0           0  5303.23  5398.27   \n",
       "\n",
       "         3        4  ...        95       96       97       98       99  \\\n",
       "0  3301.13  3287.03  ...   4547.25  4542.51  4381.08  4405.63  4377.02   \n",
       "1  5302.50  5172.77  ...   7198.34  7059.10  5875.23  6765.19  6546.78   \n",
       "2  3109.70  3317.50  ...   8233.25  8104.00  5417.00  3876.50  5123.00   \n",
       "3  4907.00  4767.50  ...  11781.25  8960.00  9340.00  9472.50  8052.50   \n",
       "4  5377.98  5346.32  ...   5284.89  5308.77  5305.43  5297.80  5300.67   \n",
       "\n",
       "       100      101      102      103      104  \n",
       "0  4371.18  4255.07  4285.44  4260.68  4249.63  \n",
       "1  6681.54  6130.36  6383.16  6225.59  6222.02  \n",
       "2  3364.50  1267.50  4154.50  5611.00  4646.50  \n",
       "3  8320.00  6662.50  7757.50  6345.00  5425.00  \n",
       "4  5293.75  5321.88  5308.82  5308.56  5294.78  \n",
       "\n",
       "[5 rows x 110 columns]"
      ]
     },
     "execution_count": 15,
     "metadata": {},
     "output_type": "execute_result"
    }
   ],
   "source": [
    "# m3_df = pd.read_excel( 'C:/Users/michelj8/Documents/GitHub/exp_smooth_lasso/m3_data.xls', sheet_name = 'M3Month')\n",
    "# m3_df = pd.read_excel( 'C:/Users/michelj8/Documents/GitHub/exp_smooth_lasso/m3_data.xls', sheet_name = 'M3Quart')\n",
    "# m3_df = pd.read_excel( 'C:/Users/michelj8/Documents/GitHub/exp_smooth_lasso/m3_data.xls', sheet_name = 'M3Year')\n",
    "m3_df = pd.read_excel( 'C:/Users/michelj8/Documents/GitHub/exp_smooth_lasso/m3_data.xls', sheet_name = 'M3Other')\n",
    "m3_df.head()"
   ]
  },
  {
   "cell_type": "code",
   "execution_count": 27,
   "metadata": {},
   "outputs": [],
   "source": [
    "ar_mse = []\n",
    "mets_mse  = []\n",
    "\n",
    "ar_coef = []\n",
    "mets_coef = []\n",
    "\n",
    "for index in m3_df.index:\n",
    "# for index in range(0, 100):\n",
    "#     ts = m3_df.drop(columns = ['Series','N','NF','Category', 'Starting Year','Starting Quarter']).loc[index].dropna()\n",
    "#     ts = m3_df.drop(columns = ['Series','N','NF','Category', 'Starting Year','Starting Month']).loc[index].dropna()\n",
    "#     ts = m3_df.drop(columns = ['Series','N','NF','Category', 'Starting Year','Unnamed: 5']).loc[index].dropna()\n",
    "    ts = m3_df.drop(columns = ['Series','N','NF','Category', 'Unnamed: 4','Unnamed: 5']).loc[index].dropna()\n",
    "    ts = ts.diff(1).dropna().values\n",
    "    mets_model = ols_mets(ts, 50)\n",
    "    mets_mse.append(mets_model[2] )\n",
    "    mets_coef.append(-1*mets_model[1])\n",
    "    \n",
    "    ar_model = ARIMA(ts,order = (1,0,0)).fit()\n",
    "    ar_mse.append(np.mean(np.square(ts- ar_model.predict())))\n",
    "    ar_coef.append(ar_model.params[1])"
   ]
  },
  {
   "cell_type": "code",
   "execution_count": 28,
   "metadata": {},
   "outputs": [
    {
     "data": {
      "text/html": [
       "<div>\n",
       "<style scoped>\n",
       "    .dataframe tbody tr th:only-of-type {\n",
       "        vertical-align: middle;\n",
       "    }\n",
       "\n",
       "    .dataframe tbody tr th {\n",
       "        vertical-align: top;\n",
       "    }\n",
       "\n",
       "    .dataframe thead th {\n",
       "        text-align: right;\n",
       "    }\n",
       "</style>\n",
       "<table border=\"1\" class=\"dataframe\">\n",
       "  <thead>\n",
       "    <tr style=\"text-align: right;\">\n",
       "      <th></th>\n",
       "      <th>mets_mse</th>\n",
       "      <th>ar_mse</th>\n",
       "    </tr>\n",
       "  </thead>\n",
       "  <tbody>\n",
       "    <tr>\n",
       "      <th>0</th>\n",
       "      <td>1.586504e+04</td>\n",
       "      <td>1.595018e+04</td>\n",
       "    </tr>\n",
       "    <tr>\n",
       "      <th>1</th>\n",
       "      <td>6.622830e+05</td>\n",
       "      <td>6.672890e+05</td>\n",
       "    </tr>\n",
       "    <tr>\n",
       "      <th>2</th>\n",
       "      <td>5.898939e+06</td>\n",
       "      <td>5.998204e+06</td>\n",
       "    </tr>\n",
       "    <tr>\n",
       "      <th>3</th>\n",
       "      <td>1.558973e+06</td>\n",
       "      <td>1.597763e+06</td>\n",
       "    </tr>\n",
       "    <tr>\n",
       "      <th>4</th>\n",
       "      <td>1.519808e+03</td>\n",
       "      <td>1.519757e+03</td>\n",
       "    </tr>\n",
       "  </tbody>\n",
       "</table>\n",
       "</div>"
      ],
      "text/plain": [
       "       mets_mse        ar_mse\n",
       "0  1.586504e+04  1.595018e+04\n",
       "1  6.622830e+05  6.672890e+05\n",
       "2  5.898939e+06  5.998204e+06\n",
       "3  1.558973e+06  1.597763e+06\n",
       "4  1.519808e+03  1.519757e+03"
      ]
     },
     "execution_count": 28,
     "metadata": {},
     "output_type": "execute_result"
    }
   ],
   "source": [
    "error_df = pd.DataFrame({'mets_mse':mets_mse, 'ar_mse':ar_mse})\n",
    "error_df.head()"
   ]
  },
  {
   "cell_type": "code",
   "execution_count": 29,
   "metadata": {},
   "outputs": [
    {
     "data": {
      "text/plain": [
       "0.41954022988505746"
      ]
     },
     "execution_count": 29,
     "metadata": {},
     "output_type": "execute_result"
    }
   ],
   "source": [
    "len(error_df.query('mets_mse < ar_mse'))/len(error_df)"
   ]
  },
  {
   "cell_type": "code",
   "execution_count": 30,
   "metadata": {},
   "outputs": [
    {
     "data": {
      "text/plain": [
       "174"
      ]
     },
     "execution_count": 30,
     "metadata": {},
     "output_type": "execute_result"
    }
   ],
   "source": [
    "len(error_df)"
   ]
  },
  {
   "cell_type": "code",
   "execution_count": 31,
   "metadata": {},
   "outputs": [
    {
     "data": {
      "text/plain": [
       "<matplotlib.axes._subplots.AxesSubplot at 0xa2747d8>"
      ]
     },
     "execution_count": 31,
     "metadata": {},
     "output_type": "execute_result"
    },
    {
     "data": {
      "image/png": "[encoded data removed]",
      "text/plain": [
       "<Figure size 432x288 with 1 Axes>"
      ]
     },
     "metadata": {
      "needs_background": "light"
     },
     "output_type": "display_data"
    }
   ],
   "source": [
    "coef_df = pd.DataFrame({'mets_rho':mets_coef, 'ar_rho':ar_coef})\n",
    "coef_df.plot.scatter(x='ar_rho',y='mets_rho')"
   ]
  },
  {
   "cell_type": "code",
   "execution_count": 32,
   "metadata": {},
   "outputs": [
    {
     "data": {
      "text/plain": [
       "<matplotlib.axes._subplots.AxesSubplot at 0xa287778>"
      ]
     },
     "execution_count": 32,
     "metadata": {},
     "output_type": "execute_result"
    },
    {
     "data": {
      "image/png": "[encoded data removed]",
      "text/plain": [
       "<Figure size 432x288 with 1 Axes>"
      ]
     },
     "metadata": {
      "needs_background": "light"
     },
     "output_type": "display_data"
    }
   ],
   "source": [
    "coef_df['ar_rho'].hist()"
   ]
  },
  {
   "cell_type": "code",
   "execution_count": 33,
   "metadata": {},
   "outputs": [
    {
     "data": {
      "text/plain": [
       "<matplotlib.axes._subplots.AxesSubplot at 0xd32ea78>"
      ]
     },
     "execution_count": 33,
     "metadata": {},
     "output_type": "execute_result"
    },
    {
     "data": {
      "image/png": "[encoded data removed]",
      "text/plain": [
       "<Figure size 432x288 with 1 Axes>"
      ]
     },
     "metadata": {
      "needs_background": "light"
     },
     "output_type": "display_data"
    }
   ],
   "source": [
    "coef_df['mets_rho'].hist()"
   ]
  },
  {
   "cell_type": "code",
   "execution_count": 34,
   "metadata": {},
   "outputs": [
    {
     "data": {
      "text/plain": [
       "<matplotlib.axes._subplots.AxesSubplot at 0xd360d00>"
      ]
     },
     "execution_count": 34,
     "metadata": {},
     "output_type": "execute_result"
    },
    {
     "data": {
      "image/png": "[encoded data removed]",
      "text/plain": [
       "<Figure size 432x288 with 1 Axes>"
      ]
     },
     "metadata": {
      "needs_background": "light"
     },
     "output_type": "display_data"
    }
   ],
   "source": [
    "pd.DataFrame(ts).plot()"
   ]
  },
  {
   "cell_type": "code",
   "execution_count": 35,
   "metadata": {},
   "outputs": [
    {
     "data": {
      "text/plain": [
       "<matplotlib.axes._subplots.AxesSubplot at 0x5366388>"
      ]
     },
     "execution_count": 35,
     "metadata": {},
     "output_type": "execute_result"
    },
    {
     "data": {
      "image/png": "[encoded data removed]",
      "text/plain": [
       "<Figure size 432x288 with 1 Axes>"
      ]
     },
     "metadata": {
      "needs_background": "light"
     },
     "output_type": "display_data"
    },
    {
     "data": {
      "image/png": "[encoded data removed]",
      "text/plain": [
       "<Figure size 432x288 with 1 Axes>"
      ]
     },
     "metadata": {
      "needs_background": "light"
     },
     "output_type": "display_data"
    }
   ],
   "source": [
    "fitted_df = pd.DataFrame({'mets_rho':mets_coef, 'ar_rho':ar_coef,\n",
    "                         'mets_mse':mets_mse, 'ar_mse':ar_mse})\n",
    "fitted_df['mse_ratio'] = (fitted_df['mets_mse'] - fitted_df['ar_mse'])/fitted_df['ar_mse']\n",
    "fitted_df.plot.scatter(x='ar_rho',y = 'mse_ratio')\n",
    "fitted_df.plot.scatter(x='mets_rho',y = 'mse_ratio')"
   ]
  },
  {
   "cell_type": "code",
   "execution_count": 36,
   "metadata": {
    "scrolled": true
   },
   "outputs": [
    {
     "name": "stdout",
     "output_type": "stream",
     "text": [
      "-0.0006329955631870643\n",
      "7.541751041629172e-05\n"
     ]
    }
   ],
   "source": [
    "print(fitted_df['mse_ratio'].mean())\n",
    "print(fitted_df['mse_ratio'].median())"
   ]
  },
  {
   "cell_type": "code",
   "execution_count": 37,
   "metadata": {},
   "outputs": [
    {
     "data": {
      "text/html": [
       "<div>\n",
       "<style scoped>\n",
       "    .dataframe tbody tr th:only-of-type {\n",
       "        vertical-align: middle;\n",
       "    }\n",
       "\n",
       "    .dataframe tbody tr th {\n",
       "        vertical-align: top;\n",
       "    }\n",
       "\n",
       "    .dataframe thead th {\n",
       "        text-align: right;\n",
       "    }\n",
       "</style>\n",
       "<table border=\"1\" class=\"dataframe\">\n",
       "  <thead>\n",
       "    <tr style=\"text-align: right;\">\n",
       "      <th></th>\n",
       "      <th>mets_rho</th>\n",
       "      <th>ar_rho</th>\n",
       "    </tr>\n",
       "  </thead>\n",
       "  <tbody>\n",
       "    <tr>\n",
       "      <th>mets_rho</th>\n",
       "      <td>1.000000</td>\n",
       "      <td>0.970628</td>\n",
       "    </tr>\n",
       "    <tr>\n",
       "      <th>ar_rho</th>\n",
       "      <td>0.970628</td>\n",
       "      <td>1.000000</td>\n",
       "    </tr>\n",
       "  </tbody>\n",
       "</table>\n",
       "</div>"
      ],
      "text/plain": [
       "          mets_rho    ar_rho\n",
       "mets_rho  1.000000  0.970628\n",
       "ar_rho    0.970628  1.000000"
      ]
     },
     "execution_count": 37,
     "metadata": {},
     "output_type": "execute_result"
    }
   ],
   "source": [
    "coef_df.corr()"
   ]
  },
  {
   "cell_type": "code",
   "execution_count": null,
   "metadata": {},
   "outputs": [],
   "source": []
  }
 ],
 "metadata": {
  "kernelspec": {
   "display_name": "Python 3",
   "language": "python",
   "name": "python3"
  },
  "language_info": {
   "codemirror_mode": {
    "name": "ipython",
    "version": 3
   },
   "file_extension": ".py",
   "mimetype": "text/x-python",
   "name": "python",
   "nbconvert_exporter": "python",
   "pygments_lexer": "ipython3",
   "version": "3.8.3"
  }
 },
 "nbformat": 4,
 "nbformat_minor": 4
}
