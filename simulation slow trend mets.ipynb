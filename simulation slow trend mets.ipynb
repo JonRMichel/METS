{
 "cells": [
  {
   "cell_type": "code",
   "execution_count": 1,
   "metadata": {},
   "outputs": [],
   "source": [
    "import numpy as np\n",
    "from scipy.linalg import expm, sinm, cosm\n",
    "import pandas as pd\n",
    "import matplotlib.pyplot as plt\n",
    "import statsmodels.api as sm\n",
    "import math\n",
    "from scipy.special import iv\n",
    "from statsmodels.tsa.arima.model import ARIMA"
   ]
  },
  {
   "cell_type": "code",
   "execution_count": 2,
   "metadata": {},
   "outputs": [],
   "source": [
    "def mets_filter(ts,rho,alpha):\n",
    "    ts_mean = np.mean(ts)\n",
    "    ts = np.append(ts,ts_mean)\n",
    "    sample_size = len(ts)\n",
    "    \n",
    "    L_approx = np.zeros([sample_size, sample_size])\n",
    "\n",
    "    for row in range(0,len(L_approx)-1):\n",
    "        L_approx[row][row+1] =1\n",
    "\n",
    "    L_approx[sample_size -1 ] = np.zeros(sample_size)\n",
    "    filter_matrix = expm(rho*L_approx)\n",
    "    \n",
    "    output = np.dot(filter_matrix,ts) + alpha\n",
    "\n",
    "    return output[:-1]\n",
    "\n",
    "\n",
    "def ols_mets(ts, grid_size):\n",
    "    sample_size = len(ts)\n",
    "    L_approx = np.zeros([sample_size, sample_size])\n",
    "\n",
    "    for row in range(0,len(L_approx)-1):\n",
    "        L_approx[row][row+1] =1\n",
    "    \n",
    "    min_rho =  0.0\n",
    "    filter_matrix = expm(min_rho*L_approx)\n",
    "    resid = np.dot(filter_matrix,ts)\n",
    "    min_alpha =  np.mean(resid)\n",
    "    min_obj = np.square(np.std(resid))\n",
    "    \n",
    "    for rho in np.linspace(-2,2,grid_size):\n",
    "        filter_matrix = expm(rho*L_approx)\n",
    "        resid =  np.dot(filter_matrix,ts)\n",
    "        alpha =  np.mean(resid)\n",
    "        obj = np.square(np.std(resid))\n",
    "        \n",
    "        if obj < min_obj:\n",
    "            min_alpha = alpha\n",
    "            min_rho = rho\n",
    "            min_obj = obj\n",
    "\n",
    "    return [min_alpha, min_rho, min_obj]    "
   ]
  },
  {
   "cell_type": "code",
   "execution_count": 196,
   "metadata": {},
   "outputs": [
    {
     "data": {
      "text/html": [
       "<div>\n",
       "<style scoped>\n",
       "    .dataframe tbody tr th:only-of-type {\n",
       "        vertical-align: middle;\n",
       "    }\n",
       "\n",
       "    .dataframe tbody tr th {\n",
       "        vertical-align: top;\n",
       "    }\n",
       "\n",
       "    .dataframe thead th {\n",
       "        text-align: right;\n",
       "    }\n",
       "</style>\n",
       "<table border=\"1\" class=\"dataframe\">\n",
       "  <thead>\n",
       "    <tr style=\"text-align: right;\">\n",
       "      <th></th>\n",
       "      <th>0</th>\n",
       "      <th>1</th>\n",
       "      <th>2</th>\n",
       "      <th>3</th>\n",
       "      <th>4</th>\n",
       "      <th>5</th>\n",
       "      <th>6</th>\n",
       "      <th>7</th>\n",
       "      <th>8</th>\n",
       "      <th>9</th>\n",
       "      <th>...</th>\n",
       "      <th>20</th>\n",
       "      <th>21</th>\n",
       "      <th>22</th>\n",
       "      <th>23</th>\n",
       "      <th>24</th>\n",
       "      <th>25</th>\n",
       "      <th>26</th>\n",
       "      <th>27</th>\n",
       "      <th>28</th>\n",
       "      <th>29</th>\n",
       "    </tr>\n",
       "  </thead>\n",
       "  <tbody>\n",
       "    <tr>\n",
       "      <th>0</th>\n",
       "      <td>-1.804802</td>\n",
       "      <td>-1.020706</td>\n",
       "      <td>1.012709</td>\n",
       "      <td>1.007989</td>\n",
       "      <td>1.070146</td>\n",
       "      <td>-1.615644</td>\n",
       "      <td>-1.130789</td>\n",
       "      <td>-1.893942</td>\n",
       "      <td>0.685761</td>\n",
       "      <td>0.940128</td>\n",
       "      <td>...</td>\n",
       "      <td>0.303789</td>\n",
       "      <td>2.973730</td>\n",
       "      <td>-1.120780</td>\n",
       "      <td>-0.391024</td>\n",
       "      <td>-3.018687</td>\n",
       "      <td>0.851459</td>\n",
       "      <td>0.234836</td>\n",
       "      <td>0.761584</td>\n",
       "      <td>1.277692</td>\n",
       "      <td>0.031936</td>\n",
       "    </tr>\n",
       "    <tr>\n",
       "      <th>1</th>\n",
       "      <td>1.895373</td>\n",
       "      <td>0.405951</td>\n",
       "      <td>0.046235</td>\n",
       "      <td>-1.022405</td>\n",
       "      <td>1.265131</td>\n",
       "      <td>1.718062</td>\n",
       "      <td>5.117852</td>\n",
       "      <td>0.930501</td>\n",
       "      <td>-0.691195</td>\n",
       "      <td>-1.938390</td>\n",
       "      <td>...</td>\n",
       "      <td>-2.153717</td>\n",
       "      <td>-2.564777</td>\n",
       "      <td>-0.980344</td>\n",
       "      <td>1.905517</td>\n",
       "      <td>0.285141</td>\n",
       "      <td>2.735833</td>\n",
       "      <td>-1.679300</td>\n",
       "      <td>-2.375646</td>\n",
       "      <td>-3.416783</td>\n",
       "      <td>1.643877</td>\n",
       "    </tr>\n",
       "    <tr>\n",
       "      <th>2</th>\n",
       "      <td>-0.037311</td>\n",
       "      <td>1.466184</td>\n",
       "      <td>-1.893621</td>\n",
       "      <td>-1.201331</td>\n",
       "      <td>-0.192698</td>\n",
       "      <td>-0.891768</td>\n",
       "      <td>0.611029</td>\n",
       "      <td>1.639449</td>\n",
       "      <td>-0.372398</td>\n",
       "      <td>-0.295828</td>\n",
       "      <td>...</td>\n",
       "      <td>-0.670506</td>\n",
       "      <td>-0.374759</td>\n",
       "      <td>-0.498747</td>\n",
       "      <td>-0.357690</td>\n",
       "      <td>-1.012112</td>\n",
       "      <td>0.458350</td>\n",
       "      <td>-0.233318</td>\n",
       "      <td>-1.787993</td>\n",
       "      <td>-2.441502</td>\n",
       "      <td>0.025194</td>\n",
       "    </tr>\n",
       "    <tr>\n",
       "      <th>3</th>\n",
       "      <td>-1.333085</td>\n",
       "      <td>-0.335378</td>\n",
       "      <td>-0.290454</td>\n",
       "      <td>1.119621</td>\n",
       "      <td>0.349191</td>\n",
       "      <td>0.408209</td>\n",
       "      <td>0.443123</td>\n",
       "      <td>-0.785437</td>\n",
       "      <td>1.211983</td>\n",
       "      <td>0.568821</td>\n",
       "      <td>...</td>\n",
       "      <td>0.665645</td>\n",
       "      <td>-2.367642</td>\n",
       "      <td>-1.109318</td>\n",
       "      <td>2.078387</td>\n",
       "      <td>-0.449542</td>\n",
       "      <td>0.983245</td>\n",
       "      <td>0.262014</td>\n",
       "      <td>1.173025</td>\n",
       "      <td>0.773106</td>\n",
       "      <td>0.334816</td>\n",
       "    </tr>\n",
       "    <tr>\n",
       "      <th>4</th>\n",
       "      <td>-4.134583</td>\n",
       "      <td>-1.091097</td>\n",
       "      <td>2.729842</td>\n",
       "      <td>4.363452</td>\n",
       "      <td>1.034025</td>\n",
       "      <td>-1.184692</td>\n",
       "      <td>-3.450088</td>\n",
       "      <td>-2.496574</td>\n",
       "      <td>0.825470</td>\n",
       "      <td>3.663910</td>\n",
       "      <td>...</td>\n",
       "      <td>0.017683</td>\n",
       "      <td>3.640742</td>\n",
       "      <td>2.083584</td>\n",
       "      <td>-0.771001</td>\n",
       "      <td>-2.646229</td>\n",
       "      <td>-2.139421</td>\n",
       "      <td>1.309625</td>\n",
       "      <td>3.843809</td>\n",
       "      <td>4.474196</td>\n",
       "      <td>-0.236520</td>\n",
       "    </tr>\n",
       "  </tbody>\n",
       "</table>\n",
       "<p>5 rows × 30 columns</p>\n",
       "</div>"
      ],
      "text/plain": [
       "         0         1         2         3         4         5         6   \\\n",
       "0 -1.804802 -1.020706  1.012709  1.007989  1.070146 -1.615644 -1.130789   \n",
       "1  1.895373  0.405951  0.046235 -1.022405  1.265131  1.718062  5.117852   \n",
       "2 -0.037311  1.466184 -1.893621 -1.201331 -0.192698 -0.891768  0.611029   \n",
       "3 -1.333085 -0.335378 -0.290454  1.119621  0.349191  0.408209  0.443123   \n",
       "4 -4.134583 -1.091097  2.729842  4.363452  1.034025 -1.184692 -3.450088   \n",
       "\n",
       "         7         8         9   ...        20        21        22        23  \\\n",
       "0 -1.893942  0.685761  0.940128  ...  0.303789  2.973730 -1.120780 -0.391024   \n",
       "1  0.930501 -0.691195 -1.938390  ... -2.153717 -2.564777 -0.980344  1.905517   \n",
       "2  1.639449 -0.372398 -0.295828  ... -0.670506 -0.374759 -0.498747 -0.357690   \n",
       "3 -0.785437  1.211983  0.568821  ...  0.665645 -2.367642 -1.109318  2.078387   \n",
       "4 -2.496574  0.825470  3.663910  ...  0.017683  3.640742  2.083584 -0.771001   \n",
       "\n",
       "         24        25        26        27        28        29  \n",
       "0 -3.018687  0.851459  0.234836  0.761584  1.277692  0.031936  \n",
       "1  0.285141  2.735833 -1.679300 -2.375646 -3.416783  1.643877  \n",
       "2 -1.012112  0.458350 -0.233318 -1.787993 -2.441502  0.025194  \n",
       "3 -0.449542  0.983245  0.262014  1.173025  0.773106  0.334816  \n",
       "4 -2.646229 -2.139421  1.309625  3.843809  4.474196 -0.236520  \n",
       "\n",
       "[5 rows x 30 columns]"
      ]
     },
     "execution_count": 196,
     "metadata": {},
     "output_type": "execute_result"
    }
   ],
   "source": [
    "time_length = 30\n",
    "data = pd.DataFrame(columns  = range(0,time_length))\n",
    "\n",
    "\n",
    "for index in range(0,100):\n",
    "#     ts = np.random.normal(0,2,2)\n",
    "#     for time in range(2,time_length):\n",
    "#         ts= np.append(ts, .7*ts[-1] -.1*ts[-2]+ np.random.normal(0,1))\n",
    "\n",
    "    ts = np.random.uniform(-5,5)*np.cos(np.linspace(0,30,time_length)) + np.random.normal(0,1,time_length)\n",
    "\n",
    "    data.loc[index] = ts\n",
    "    \n",
    "data.head()"
   ]
  },
  {
   "cell_type": "code",
   "execution_count": 197,
   "metadata": {},
   "outputs": [
    {
     "data": {
      "text/plain": [
       "<matplotlib.axes._subplots.AxesSubplot at 0xf8311a8>"
      ]
     },
     "execution_count": 197,
     "metadata": {},
     "output_type": "execute_result"
    },
    {
     "data": {
      "image/png": "[encoded data removed]",
      "text/plain": [
       "<Figure size 432x288 with 1 Axes>"
      ]
     },
     "metadata": {
      "needs_background": "light"
     },
     "output_type": "display_data"
    }
   ],
   "source": [
    "pd.DataFrame(data.loc[5]).plot()"
   ]
  },
  {
   "cell_type": "code",
   "execution_count": 198,
   "metadata": {},
   "outputs": [],
   "source": [
    "ar_mse = []\n",
    "mets_mse  = []\n",
    "\n",
    "ar_coef = []\n",
    "mets_coef = []\n",
    "\n",
    "for index in data.index:\n",
    "    ts = data.loc[index].values\n",
    "    mets_model = ols_mets(ts, 50)\n",
    "    mets_mse.append(mets_model[2] )\n",
    "    mets_coef.append(-1*mets_model[1])\n",
    "    \n",
    "    ar_model = ARIMA(ts,order = (1,0,0)).fit()\n",
    "    ar_mse.append(np.mean(np.square(ts- ar_model.predict())))\n",
    "    ar_coef.append(ar_model.params[1])"
   ]
  },
  {
   "cell_type": "code",
   "execution_count": 199,
   "metadata": {},
   "outputs": [
    {
     "data": {
      "text/html": [
       "<div>\n",
       "<style scoped>\n",
       "    .dataframe tbody tr th:only-of-type {\n",
       "        vertical-align: middle;\n",
       "    }\n",
       "\n",
       "    .dataframe tbody tr th {\n",
       "        vertical-align: top;\n",
       "    }\n",
       "\n",
       "    .dataframe thead th {\n",
       "        text-align: right;\n",
       "    }\n",
       "</style>\n",
       "<table border=\"1\" class=\"dataframe\">\n",
       "  <thead>\n",
       "    <tr style=\"text-align: right;\">\n",
       "      <th></th>\n",
       "      <th>mets_mse</th>\n",
       "      <th>ar_mse</th>\n",
       "    </tr>\n",
       "  </thead>\n",
       "  <tbody>\n",
       "    <tr>\n",
       "      <th>0</th>\n",
       "      <td>2.344935</td>\n",
       "      <td>2.347774</td>\n",
       "    </tr>\n",
       "    <tr>\n",
       "      <th>1</th>\n",
       "      <td>4.383430</td>\n",
       "      <td>4.634609</td>\n",
       "    </tr>\n",
       "    <tr>\n",
       "      <th>2</th>\n",
       "      <td>1.260668</td>\n",
       "      <td>1.301749</td>\n",
       "    </tr>\n",
       "    <tr>\n",
       "      <th>3</th>\n",
       "      <td>0.895328</td>\n",
       "      <td>0.895194</td>\n",
       "    </tr>\n",
       "    <tr>\n",
       "      <th>4</th>\n",
       "      <td>3.845075</td>\n",
       "      <td>5.912193</td>\n",
       "    </tr>\n",
       "  </tbody>\n",
       "</table>\n",
       "</div>"
      ],
      "text/plain": [
       "   mets_mse    ar_mse\n",
       "0  2.344935  2.347774\n",
       "1  4.383430  4.634609\n",
       "2  1.260668  1.301749\n",
       "3  0.895328  0.895194\n",
       "4  3.845075  5.912193"
      ]
     },
     "execution_count": 199,
     "metadata": {},
     "output_type": "execute_result"
    }
   ],
   "source": [
    "error_df = pd.DataFrame({'mets_mse':mets_mse, 'ar_mse':ar_mse})\n",
    "error_df.head()"
   ]
  },
  {
   "cell_type": "code",
   "execution_count": 200,
   "metadata": {},
   "outputs": [
    {
     "data": {
      "text/plain": [
       "0.89"
      ]
     },
     "execution_count": 200,
     "metadata": {},
     "output_type": "execute_result"
    }
   ],
   "source": [
    "len(error_df.query('mets_mse < ar_mse'))/len(error_df)"
   ]
  },
  {
   "cell_type": "code",
   "execution_count": 201,
   "metadata": {},
   "outputs": [
    {
     "data": {
      "text/plain": [
       "100"
      ]
     },
     "execution_count": 201,
     "metadata": {},
     "output_type": "execute_result"
    }
   ],
   "source": [
    "len(error_df)"
   ]
  },
  {
   "cell_type": "code",
   "execution_count": 202,
   "metadata": {},
   "outputs": [
    {
     "data": {
      "text/plain": [
       "<matplotlib.axes._subplots.AxesSubplot at 0xf80bb68>"
      ]
     },
     "execution_count": 202,
     "metadata": {},
     "output_type": "execute_result"
    },
    {
     "data": {
      "image/png": "[encoded data removed]",
      "text/plain": [
       "<Figure size 432x288 with 1 Axes>"
      ]
     },
     "metadata": {
      "needs_background": "light"
     },
     "output_type": "display_data"
    }
   ],
   "source": [
    "coef_df = pd.DataFrame({'mets_rho':mets_coef, 'ar_rho':ar_coef})\n",
    "coef_df.plot.scatter(x='ar_rho',y='mets_rho')"
   ]
  },
  {
   "cell_type": "code",
   "execution_count": 203,
   "metadata": {},
   "outputs": [
    {
     "data": {
      "text/plain": [
       "<matplotlib.axes._subplots.AxesSubplot at 0xf8c39e8>"
      ]
     },
     "execution_count": 203,
     "metadata": {},
     "output_type": "execute_result"
    },
    {
     "data": {
      "image/png": "[encoded data removed]",
      "text/plain": [
       "<Figure size 432x288 with 1 Axes>"
      ]
     },
     "metadata": {
      "needs_background": "light"
     },
     "output_type": "display_data"
    }
   ],
   "source": [
    "coef_df['ar_rho'].hist()"
   ]
  },
  {
   "cell_type": "code",
   "execution_count": 204,
   "metadata": {},
   "outputs": [
    {
     "data": {
      "text/plain": [
       "<matplotlib.axes._subplots.AxesSubplot at 0xf8ff940>"
      ]
     },
     "execution_count": 204,
     "metadata": {},
     "output_type": "execute_result"
    },
    {
     "data": {
      "image/png": "[encoded data removed]",
      "text/plain": [
       "<Figure size 432x288 with 1 Axes>"
      ]
     },
     "metadata": {
      "needs_background": "light"
     },
     "output_type": "display_data"
    }
   ],
   "source": [
    "coef_df['mets_rho'].hist()"
   ]
  },
  {
   "cell_type": "code",
   "execution_count": 205,
   "metadata": {},
   "outputs": [
    {
     "data": {
      "text/plain": [
       "<matplotlib.axes._subplots.AxesSubplot at 0xf937460>"
      ]
     },
     "execution_count": 205,
     "metadata": {},
     "output_type": "execute_result"
    },
    {
     "data": {
      "image/png": "[encoded data removed]",
      "text/plain": [
       "<Figure size 432x288 with 1 Axes>"
      ]
     },
     "metadata": {
      "needs_background": "light"
     },
     "output_type": "display_data"
    }
   ],
   "source": [
    "pd.DataFrame(ts).plot()"
   ]
  },
  {
   "cell_type": "code",
   "execution_count": 206,
   "metadata": {},
   "outputs": [
    {
     "data": {
      "text/plain": [
       "<matplotlib.axes._subplots.AxesSubplot at 0xf998c28>"
      ]
     },
     "execution_count": 206,
     "metadata": {},
     "output_type": "execute_result"
    },
    {
     "data": {
      "image/png": "[encoded data removed]",
      "text/plain": [
       "<Figure size 432x288 with 1 Axes>"
      ]
     },
     "metadata": {
      "needs_background": "light"
     },
     "output_type": "display_data"
    },
    {
     "data": {
      "image/png": "[encoded data removed]",
      "text/plain": [
       "<Figure size 432x288 with 1 Axes>"
      ]
     },
     "metadata": {
      "needs_background": "light"
     },
     "output_type": "display_data"
    }
   ],
   "source": [
    "fitted_df = pd.DataFrame({'mets_rho':mets_coef, 'ar_rho':ar_coef,\n",
    "                         'mets_mse':mets_mse, 'ar_mse':ar_mse})\n",
    "fitted_df['mse_ratio'] = (fitted_df['mets_mse'] - fitted_df['ar_mse'])/fitted_df['ar_mse']\n",
    "fitted_df.plot.scatter(x='ar_rho',y = 'mse_ratio')\n",
    "fitted_df.plot.scatter(x='mets_rho',y = 'mse_ratio')"
   ]
  },
  {
   "cell_type": "code",
   "execution_count": 207,
   "metadata": {
    "scrolled": true
   },
   "outputs": [
    {
     "name": "stdout",
     "output_type": "stream",
     "text": [
      "-0.1578962951579313\n",
      "-0.13853785925840312\n"
     ]
    }
   ],
   "source": [
    "print(fitted_df['mse_ratio'].mean())\n",
    "print(fitted_df['mse_ratio'].median())"
   ]
  },
  {
   "cell_type": "code",
   "execution_count": 208,
   "metadata": {},
   "outputs": [
    {
     "data": {
      "text/html": [
       "<div>\n",
       "<style scoped>\n",
       "    .dataframe tbody tr th:only-of-type {\n",
       "        vertical-align: middle;\n",
       "    }\n",
       "\n",
       "    .dataframe tbody tr th {\n",
       "        vertical-align: top;\n",
       "    }\n",
       "\n",
       "    .dataframe thead th {\n",
       "        text-align: right;\n",
       "    }\n",
       "</style>\n",
       "<table border=\"1\" class=\"dataframe\">\n",
       "  <thead>\n",
       "    <tr style=\"text-align: right;\">\n",
       "      <th></th>\n",
       "      <th>mets_rho</th>\n",
       "      <th>ar_rho</th>\n",
       "    </tr>\n",
       "  </thead>\n",
       "  <tbody>\n",
       "    <tr>\n",
       "      <th>mets_rho</th>\n",
       "      <td>1.000000</td>\n",
       "      <td>0.921372</td>\n",
       "    </tr>\n",
       "    <tr>\n",
       "      <th>ar_rho</th>\n",
       "      <td>0.921372</td>\n",
       "      <td>1.000000</td>\n",
       "    </tr>\n",
       "  </tbody>\n",
       "</table>\n",
       "</div>"
      ],
      "text/plain": [
       "          mets_rho    ar_rho\n",
       "mets_rho  1.000000  0.921372\n",
       "ar_rho    0.921372  1.000000"
      ]
     },
     "execution_count": 208,
     "metadata": {},
     "output_type": "execute_result"
    }
   ],
   "source": [
    "coef_df.corr()"
   ]
  },
  {
   "cell_type": "code",
   "execution_count": null,
   "metadata": {},
   "outputs": [],
   "source": []
  },
  {
   "cell_type": "code",
   "execution_count": null,
   "metadata": {},
   "outputs": [],
   "source": []
  }
 ],
 "metadata": {
  "kernelspec": {
   "display_name": "Python 3",
   "language": "python",
   "name": "python3"
  },
  "language_info": {
   "codemirror_mode": {
    "name": "ipython",
    "version": 3
   },
   "file_extension": ".py",
   "mimetype": "text/x-python",
   "name": "python",
   "nbconvert_exporter": "python",
   "pygments_lexer": "ipython3",
   "version": "3.8.3"
  }
 },
 "nbformat": 4,
 "nbformat_minor": 4
}
