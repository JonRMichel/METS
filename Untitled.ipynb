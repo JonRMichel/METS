{
 "cells": [
  {
   "cell_type": "code",
   "execution_count": 1,
   "metadata": {},
   "outputs": [],
   "source": [
    "import numpy as np\n",
    "from scipy.linalg import expm, sinm, cosm\n",
    "import pandas as pd\n",
    "import matplotlib.pyplot as plt\n",
    "import statsmodels.api as sm\n",
    "import math\n",
    "from scipy.special import iv\n",
    "from statsmodels.tsa.arima.model import ARIMA"
   ]
  },
  {
   "cell_type": "code",
   "execution_count": 2,
   "metadata": {},
   "outputs": [],
   "source": [
    "def mets_filter(ts,rho,alpha):\n",
    "    ts_mean = np.mean(ts)\n",
    "    ts = np.append(ts,ts_mean)\n",
    "    sample_size = len(ts)\n",
    "    \n",
    "    L_approx = np.zeros([sample_size, sample_size])\n",
    "\n",
    "    for row in range(0,len(L_approx)-1):\n",
    "        L_approx[row][row+1] =1\n",
    "\n",
    "    L_approx[sample_size -1 ] = np.zeros(sample_size)\n",
    "    filter_matrix = expm(rho*L_approx)\n",
    "    \n",
    "    output = np.dot(filter_matrix,ts) + alpha\n",
    "\n",
    "    return output[:-1]\n",
    "\n",
    "\n",
    "def ols_mets(ts, grid_size):\n",
    "    sample_size = len(ts)\n",
    "    L_approx = np.zeros([sample_size, sample_size])\n",
    "\n",
    "    for row in range(0,len(L_approx)-1):\n",
    "        L_approx[row][row+1] =1\n",
    "    \n",
    "    min_rho =  0.0\n",
    "    filter_matrix = expm(min_rho*L_approx)\n",
    "    resid = np.dot(filter_matrix,ts)\n",
    "    min_alpha =  np.mean(resid)\n",
    "    min_obj = np.square(np.std(resid))\n",
    "    \n",
    "    for rho in np.linspace(-2,2,grid_size):\n",
    "        filter_matrix = expm(rho*L_approx)\n",
    "        resid =  np.dot(filter_matrix,ts)\n",
    "        alpha =  np.mean(resid)\n",
    "        obj = np.square(np.std(resid))\n",
    "        \n",
    "        if obj < min_obj:\n",
    "            min_alpha = alpha\n",
    "            min_rho = rho\n",
    "            min_obj = obj\n",
    "\n",
    "    return [min_alpha, min_rho, min_obj]  "
   ]
  },
  {
   "cell_type": "code",
   "execution_count": null,
   "metadata": {},
   "outputs": [],
   "source": []
  }
 ],
 "metadata": {
  "kernelspec": {
   "display_name": "Python 3",
   "language": "python",
   "name": "python3"
  },
  "language_info": {
   "codemirror_mode": {
    "name": "ipython",
    "version": 3
   },
   "file_extension": ".py",
   "mimetype": "text/x-python",
   "name": "python",
   "nbconvert_exporter": "python",
   "pygments_lexer": "ipython3",
   "version": "3.8.3"
  }
 },
 "nbformat": 4,
 "nbformat_minor": 4
}
