{
 "cells": [
  {
   "cell_type": "code",
   "execution_count": 20,
   "metadata": {},
   "outputs": [],
   "source": [
    "import numpy as np\n",
    "from scipy.linalg import expm, sinm, cosm\n",
    "import pandas as pd\n",
    "import matplotlib.pyplot as plt\n",
    "import statsmodels.api as sm\n",
    "import math\n",
    "from scipy.special import iv\n",
    "from statsmodels.tsa.arima.model import ARIMA\n",
    "import altair"
   ]
  },
  {
   "cell_type": "code",
   "execution_count": 16,
   "metadata": {},
   "outputs": [],
   "source": [
    "def mets_filter(ts,rho,alpha):\n",
    "    ts_mean = np.mean(ts)\n",
    "    ts = np.append(ts,ts_mean)\n",
    "    sample_size = len(ts)\n",
    "    \n",
    "    L_approx = np.zeros([sample_size, sample_size])\n",
    "\n",
    "    for row in range(0,len(L_approx)-1):\n",
    "        L_approx[row][row+1] =1\n",
    "\n",
    "    L_approx[sample_size -1 ] = np.zeros(sample_size)\n",
    "    filter_matrix = expm(rho*L_approx)\n",
    "    \n",
    "    output = np.dot(filter_matrix,ts) + alpha\n",
    "\n",
    "    return output[:-1]\n",
    "\n",
    "\n",
    "def ols_mets(ts, grid_size):\n",
    "    sample_size = len(ts)\n",
    "    L_approx = np.zeros([sample_size, sample_size])\n",
    "\n",
    "    for row in range(0,len(L_approx)-1):\n",
    "        L_approx[row][row+1] =1\n",
    "    \n",
    "    min_rho =  0.0\n",
    "    filter_matrix = expm(min_rho*L_approx)\n",
    "    resid = np.dot(filter_matrix,ts)\n",
    "    min_alpha =  np.mean(resid)\n",
    "    min_obj = np.square(np.std(resid))\n",
    "    \n",
    "    for rho in np.linspace(-2,2,grid_size):\n",
    "        filter_matrix = expm(rho*L_approx)\n",
    "        resid =  np.dot(filter_matrix,ts)\n",
    "        alpha =  np.mean(resid)\n",
    "        obj = np.square(np.std(resid))\n",
    "        \n",
    "        if obj < min_obj:\n",
    "            min_alpha = alpha\n",
    "            min_rho = rho\n",
    "            min_obj = obj\n",
    "\n",
    "    return [min_alpha, min_rho, min_obj]    "
   ]
  },
  {
   "cell_type": "markdown",
   "metadata": {},
   "source": [
    "# Annual Data"
   ]
  },
  {
   "cell_type": "code",
   "execution_count": 3,
   "metadata": {},
   "outputs": [
    {
     "data": {
      "text/html": [
       "<div>\n",
       "<style scoped>\n",
       "    .dataframe tbody tr th:only-of-type {\n",
       "        vertical-align: middle;\n",
       "    }\n",
       "\n",
       "    .dataframe tbody tr th {\n",
       "        vertical-align: top;\n",
       "    }\n",
       "\n",
       "    .dataframe thead th {\n",
       "        text-align: right;\n",
       "    }\n",
       "</style>\n",
       "<table border=\"1\" class=\"dataframe\">\n",
       "  <thead>\n",
       "    <tr style=\"text-align: right;\">\n",
       "      <th></th>\n",
       "      <th>Series</th>\n",
       "      <th>N</th>\n",
       "      <th>NF</th>\n",
       "      <th>Category</th>\n",
       "      <th>Starting Year</th>\n",
       "      <th>Unnamed: 5</th>\n",
       "      <th>1</th>\n",
       "      <th>2</th>\n",
       "      <th>3</th>\n",
       "      <th>4</th>\n",
       "      <th>...</th>\n",
       "      <th>38</th>\n",
       "      <th>39</th>\n",
       "      <th>40</th>\n",
       "      <th>41</th>\n",
       "      <th>42</th>\n",
       "      <th>43</th>\n",
       "      <th>44</th>\n",
       "      <th>45</th>\n",
       "      <th>46</th>\n",
       "      <th>47</th>\n",
       "    </tr>\n",
       "  </thead>\n",
       "  <tbody>\n",
       "    <tr>\n",
       "      <th>0</th>\n",
       "      <td>N   1</td>\n",
       "      <td>20</td>\n",
       "      <td>6</td>\n",
       "      <td>MICRO</td>\n",
       "      <td>1975</td>\n",
       "      <td>1</td>\n",
       "      <td>940.66</td>\n",
       "      <td>1084.86</td>\n",
       "      <td>1244.98</td>\n",
       "      <td>1445.02</td>\n",
       "      <td>...</td>\n",
       "      <td>NaN</td>\n",
       "      <td>NaN</td>\n",
       "      <td>NaN</td>\n",
       "      <td>NaN</td>\n",
       "      <td>NaN</td>\n",
       "      <td>NaN</td>\n",
       "      <td>NaN</td>\n",
       "      <td>NaN</td>\n",
       "      <td>NaN</td>\n",
       "      <td>NaN</td>\n",
       "    </tr>\n",
       "    <tr>\n",
       "      <th>1</th>\n",
       "      <td>N   2</td>\n",
       "      <td>20</td>\n",
       "      <td>6</td>\n",
       "      <td>MICRO</td>\n",
       "      <td>1975</td>\n",
       "      <td>1</td>\n",
       "      <td>1991.05</td>\n",
       "      <td>2306.40</td>\n",
       "      <td>2604.00</td>\n",
       "      <td>2992.30</td>\n",
       "      <td>...</td>\n",
       "      <td>NaN</td>\n",
       "      <td>NaN</td>\n",
       "      <td>NaN</td>\n",
       "      <td>NaN</td>\n",
       "      <td>NaN</td>\n",
       "      <td>NaN</td>\n",
       "      <td>NaN</td>\n",
       "      <td>NaN</td>\n",
       "      <td>NaN</td>\n",
       "      <td>NaN</td>\n",
       "    </tr>\n",
       "    <tr>\n",
       "      <th>2</th>\n",
       "      <td>N   3</td>\n",
       "      <td>20</td>\n",
       "      <td>6</td>\n",
       "      <td>MICRO</td>\n",
       "      <td>1975</td>\n",
       "      <td>1</td>\n",
       "      <td>1461.57</td>\n",
       "      <td>1692.50</td>\n",
       "      <td>2193.82</td>\n",
       "      <td>2459.68</td>\n",
       "      <td>...</td>\n",
       "      <td>NaN</td>\n",
       "      <td>NaN</td>\n",
       "      <td>NaN</td>\n",
       "      <td>NaN</td>\n",
       "      <td>NaN</td>\n",
       "      <td>NaN</td>\n",
       "      <td>NaN</td>\n",
       "      <td>NaN</td>\n",
       "      <td>NaN</td>\n",
       "      <td>NaN</td>\n",
       "    </tr>\n",
       "    <tr>\n",
       "      <th>3</th>\n",
       "      <td>N   4</td>\n",
       "      <td>20</td>\n",
       "      <td>6</td>\n",
       "      <td>MICRO</td>\n",
       "      <td>1975</td>\n",
       "      <td>1</td>\n",
       "      <td>744.54</td>\n",
       "      <td>1105.16</td>\n",
       "      <td>1417.40</td>\n",
       "      <td>1838.04</td>\n",
       "      <td>...</td>\n",
       "      <td>NaN</td>\n",
       "      <td>NaN</td>\n",
       "      <td>NaN</td>\n",
       "      <td>NaN</td>\n",
       "      <td>NaN</td>\n",
       "      <td>NaN</td>\n",
       "      <td>NaN</td>\n",
       "      <td>NaN</td>\n",
       "      <td>NaN</td>\n",
       "      <td>NaN</td>\n",
       "    </tr>\n",
       "    <tr>\n",
       "      <th>4</th>\n",
       "      <td>N   5</td>\n",
       "      <td>20</td>\n",
       "      <td>6</td>\n",
       "      <td>MICRO</td>\n",
       "      <td>1975</td>\n",
       "      <td>1</td>\n",
       "      <td>4977.18</td>\n",
       "      <td>5248.00</td>\n",
       "      <td>5370.00</td>\n",
       "      <td>6184.89</td>\n",
       "      <td>...</td>\n",
       "      <td>NaN</td>\n",
       "      <td>NaN</td>\n",
       "      <td>NaN</td>\n",
       "      <td>NaN</td>\n",
       "      <td>NaN</td>\n",
       "      <td>NaN</td>\n",
       "      <td>NaN</td>\n",
       "      <td>NaN</td>\n",
       "      <td>NaN</td>\n",
       "      <td>NaN</td>\n",
       "    </tr>\n",
       "  </tbody>\n",
       "</table>\n",
       "<p>5 rows × 53 columns</p>\n",
       "</div>"
      ],
      "text/plain": [
       "  Series   N  NF      Category  Starting Year  Unnamed: 5        1        2  \\\n",
       "0  N   1  20   6  MICRO                  1975           1   940.66  1084.86   \n",
       "1  N   2  20   6  MICRO                  1975           1  1991.05  2306.40   \n",
       "2  N   3  20   6  MICRO                  1975           1  1461.57  1692.50   \n",
       "3  N   4  20   6  MICRO                  1975           1   744.54  1105.16   \n",
       "4  N   5  20   6  MICRO                  1975           1  4977.18  5248.00   \n",
       "\n",
       "         3        4  ...  38  39  40  41  42  43  44  45  46  47  \n",
       "0  1244.98  1445.02  ... NaN NaN NaN NaN NaN NaN NaN NaN NaN NaN  \n",
       "1  2604.00  2992.30  ... NaN NaN NaN NaN NaN NaN NaN NaN NaN NaN  \n",
       "2  2193.82  2459.68  ... NaN NaN NaN NaN NaN NaN NaN NaN NaN NaN  \n",
       "3  1417.40  1838.04  ... NaN NaN NaN NaN NaN NaN NaN NaN NaN NaN  \n",
       "4  5370.00  6184.89  ... NaN NaN NaN NaN NaN NaN NaN NaN NaN NaN  \n",
       "\n",
       "[5 rows x 53 columns]"
      ]
     },
     "execution_count": 3,
     "metadata": {},
     "output_type": "execute_result"
    }
   ],
   "source": [
    "m3_df = pd.read_excel( 'C:/Users/michelj8/Documents/GitHub/exp_smooth_lasso/m3_data.xls', sheet_name = 'M3Year')\n",
    "m3_df.head()"
   ]
  },
  {
   "cell_type": "code",
   "execution_count": 8,
   "metadata": {},
   "outputs": [
    {
     "name": "stderr",
     "output_type": "stream",
     "text": [
      "C:\\Users\\michelj8\\Anaconda3\\lib\\site-packages\\statsmodels\\tsa\\statespace\\sarimax.py:963: UserWarning: Non-stationary starting autoregressive parameters found. Using zeros as starting parameters.\n",
      "  warn('Non-stationary starting autoregressive parameters'\n"
     ]
    }
   ],
   "source": [
    "ar_mse = []\n",
    "mets_mse  = []\n",
    "series_type = []\n",
    "\n",
    "ar_coef = []\n",
    "mets_coef = []\n",
    "\n",
    "# for index in m3_df.index:\n",
    "for index in range(0, 100):\n",
    "    series_type.append( m3_df.loc[index,'Category'] )\n",
    "    ts = m3_df.drop(columns = ['Series','N','NF','Category', 'Starting Year','Unnamed: 5']).loc[index].dropna()\n",
    "    ts = ts.diff(1).dropna().values\n",
    "    mets_model = ols_mets(ts, 50)\n",
    "    mets_mse.append(mets_model[2] )\n",
    "    mets_coef.append(-1*mets_model[1])\n",
    "    \n",
    "    ar_model = ARIMA(ts,order = (1,0,0)).fit()\n",
    "    ar_mse.append(np.mean(np.square(ts- ar_model.predict())))\n",
    "    ar_coef.append(ar_model.params[1])"
   ]
  },
  {
   "cell_type": "code",
   "execution_count": 10,
   "metadata": {},
   "outputs": [
    {
     "data": {
      "text/html": [
       "<div>\n",
       "<style scoped>\n",
       "    .dataframe tbody tr th:only-of-type {\n",
       "        vertical-align: middle;\n",
       "    }\n",
       "\n",
       "    .dataframe tbody tr th {\n",
       "        vertical-align: top;\n",
       "    }\n",
       "\n",
       "    .dataframe thead th {\n",
       "        text-align: right;\n",
       "    }\n",
       "</style>\n",
       "<table border=\"1\" class=\"dataframe\">\n",
       "  <thead>\n",
       "    <tr style=\"text-align: right;\">\n",
       "      <th></th>\n",
       "      <th>mets_mse</th>\n",
       "      <th>ar_mse</th>\n",
       "      <th>series_type</th>\n",
       "      <th>ar_coef</th>\n",
       "      <th>mets_coef</th>\n",
       "    </tr>\n",
       "  </thead>\n",
       "  <tbody>\n",
       "    <tr>\n",
       "      <th>0</th>\n",
       "      <td>43810.073092</td>\n",
       "      <td>28149.950093</td>\n",
       "      <td>MICRO</td>\n",
       "      <td>0.756800</td>\n",
       "      <td>0.448980</td>\n",
       "    </tr>\n",
       "    <tr>\n",
       "      <th>1</th>\n",
       "      <td>393612.297666</td>\n",
       "      <td>393259.580755</td>\n",
       "      <td>MICRO</td>\n",
       "      <td>0.191862</td>\n",
       "      <td>0.204082</td>\n",
       "    </tr>\n",
       "    <tr>\n",
       "      <th>2</th>\n",
       "      <td>333659.054204</td>\n",
       "      <td>332617.127805</td>\n",
       "      <td>MICRO</td>\n",
       "      <td>0.337169</td>\n",
       "      <td>0.367347</td>\n",
       "    </tr>\n",
       "    <tr>\n",
       "      <th>3</th>\n",
       "      <td>367866.853314</td>\n",
       "      <td>368491.054723</td>\n",
       "      <td>MICRO</td>\n",
       "      <td>0.034072</td>\n",
       "      <td>0.040816</td>\n",
       "    </tr>\n",
       "    <tr>\n",
       "      <th>4</th>\n",
       "      <td>480823.548746</td>\n",
       "      <td>480701.033278</td>\n",
       "      <td>MICRO</td>\n",
       "      <td>0.017069</td>\n",
       "      <td>0.040816</td>\n",
       "    </tr>\n",
       "  </tbody>\n",
       "</table>\n",
       "</div>"
      ],
      "text/plain": [
       "        mets_mse         ar_mse   series_type   ar_coef  mets_coef\n",
       "0   43810.073092   28149.950093  MICRO         0.756800   0.448980\n",
       "1  393612.297666  393259.580755  MICRO         0.191862   0.204082\n",
       "2  333659.054204  332617.127805  MICRO         0.337169   0.367347\n",
       "3  367866.853314  368491.054723  MICRO         0.034072   0.040816\n",
       "4  480823.548746  480701.033278  MICRO         0.017069   0.040816"
      ]
     },
     "execution_count": 10,
     "metadata": {},
     "output_type": "execute_result"
    }
   ],
   "source": [
    "yearly_est_df = pd.DataFrame({'mets_mse':mets_mse, \n",
    "                              'ar_mse':ar_mse,\n",
    "                              'series_type':series_type,\n",
    "                             'ar_coef':ar_coef,\n",
    "                             'mets_coef':mets_coef})\n",
    "yearly_est_df.head()"
   ]
  },
  {
   "cell_type": "markdown",
   "metadata": {},
   "source": [
    "# Quarterly"
   ]
  },
  {
   "cell_type": "code",
   "execution_count": 11,
   "metadata": {},
   "outputs": [
    {
     "data": {
      "text/html": [
       "<div>\n",
       "<style scoped>\n",
       "    .dataframe tbody tr th:only-of-type {\n",
       "        vertical-align: middle;\n",
       "    }\n",
       "\n",
       "    .dataframe tbody tr th {\n",
       "        vertical-align: top;\n",
       "    }\n",
       "\n",
       "    .dataframe thead th {\n",
       "        text-align: right;\n",
       "    }\n",
       "</style>\n",
       "<table border=\"1\" class=\"dataframe\">\n",
       "  <thead>\n",
       "    <tr style=\"text-align: right;\">\n",
       "      <th></th>\n",
       "      <th>mets_mse</th>\n",
       "      <th>ar_mse</th>\n",
       "      <th>series_type</th>\n",
       "      <th>ar_coef</th>\n",
       "      <th>mets_coef</th>\n",
       "    </tr>\n",
       "  </thead>\n",
       "  <tbody>\n",
       "    <tr>\n",
       "      <th>0</th>\n",
       "      <td>64264.409861</td>\n",
       "      <td>64217.156127</td>\n",
       "      <td>MICRO</td>\n",
       "      <td>0.027433</td>\n",
       "      <td>-0.000000</td>\n",
       "    </tr>\n",
       "    <tr>\n",
       "      <th>1</th>\n",
       "      <td>4630.309766</td>\n",
       "      <td>4561.081330</td>\n",
       "      <td>MICRO</td>\n",
       "      <td>-0.208103</td>\n",
       "      <td>-0.122449</td>\n",
       "    </tr>\n",
       "    <tr>\n",
       "      <th>2</th>\n",
       "      <td>23137.541167</td>\n",
       "      <td>23178.527449</td>\n",
       "      <td>MICRO</td>\n",
       "      <td>0.012556</td>\n",
       "      <td>0.040816</td>\n",
       "    </tr>\n",
       "    <tr>\n",
       "      <th>3</th>\n",
       "      <td>97532.764107</td>\n",
       "      <td>96721.799388</td>\n",
       "      <td>MICRO</td>\n",
       "      <td>-0.169962</td>\n",
       "      <td>-0.122449</td>\n",
       "    </tr>\n",
       "    <tr>\n",
       "      <th>4</th>\n",
       "      <td>15398.379995</td>\n",
       "      <td>13608.294347</td>\n",
       "      <td>MICRO</td>\n",
       "      <td>0.617972</td>\n",
       "      <td>0.530612</td>\n",
       "    </tr>\n",
       "  </tbody>\n",
       "</table>\n",
       "</div>"
      ],
      "text/plain": [
       "       mets_mse        ar_mse   series_type   ar_coef  mets_coef\n",
       "0  64264.409861  64217.156127  MICRO         0.027433  -0.000000\n",
       "1   4630.309766   4561.081330  MICRO        -0.208103  -0.122449\n",
       "2  23137.541167  23178.527449  MICRO         0.012556   0.040816\n",
       "3  97532.764107  96721.799388  MICRO        -0.169962  -0.122449\n",
       "4  15398.379995  13608.294347  MICRO         0.617972   0.530612"
      ]
     },
     "execution_count": 11,
     "metadata": {},
     "output_type": "execute_result"
    }
   ],
   "source": [
    "m3_df = pd.read_excel( 'C:/Users/michelj8/Documents/GitHub/exp_smooth_lasso/m3_data.xls', sheet_name = 'M3Quart')\n",
    "\n",
    "ar_mse = []\n",
    "mets_mse  = []\n",
    "series_type = []\n",
    "\n",
    "ar_coef = []\n",
    "mets_coef = []\n",
    "\n",
    "# for index in m3_df.index:\n",
    "for index in range(0, 10):\n",
    "    ts = m3_df.drop(columns = ['Series','N','NF','Category', 'Starting Year','Starting Quarter']).loc[index].dropna()\n",
    "    series_type.append( m3_df.loc[index,'Category'] )\n",
    "    ts = ts.diff(1).dropna().values\n",
    "    mets_model = ols_mets(ts, 50)\n",
    "    mets_mse.append(mets_model[2] )\n",
    "    mets_coef.append(-1*mets_model[1])\n",
    "    \n",
    "    ar_model = ARIMA(ts,order = (1,0,0)).fit()\n",
    "    ar_mse.append(np.mean(np.square(ts- ar_model.predict())))\n",
    "    ar_coef.append(ar_model.params[1])\n",
    "    \n",
    "\n",
    "quarterly_est_df = pd.DataFrame({'mets_mse':mets_mse, \n",
    "                              'ar_mse':ar_mse,\n",
    "                              'series_type':series_type,\n",
    "                             'ar_coef':ar_coef,\n",
    "                             'mets_coef':mets_coef})\n",
    "quarterly_est_df.head()"
   ]
  },
  {
   "cell_type": "markdown",
   "metadata": {},
   "source": [
    "# Monthly"
   ]
  },
  {
   "cell_type": "code",
   "execution_count": 50,
   "metadata": {},
   "outputs": [
    {
     "data": {
      "text/html": [
       "<div>\n",
       "<style scoped>\n",
       "    .dataframe tbody tr th:only-of-type {\n",
       "        vertical-align: middle;\n",
       "    }\n",
       "\n",
       "    .dataframe tbody tr th {\n",
       "        vertical-align: top;\n",
       "    }\n",
       "\n",
       "    .dataframe thead th {\n",
       "        text-align: right;\n",
       "    }\n",
       "</style>\n",
       "<table border=\"1\" class=\"dataframe\">\n",
       "  <thead>\n",
       "    <tr style=\"text-align: right;\">\n",
       "      <th></th>\n",
       "      <th>mets_mse</th>\n",
       "      <th>ar_mse</th>\n",
       "      <th>series_type</th>\n",
       "      <th>ar_coef</th>\n",
       "      <th>mets_coef</th>\n",
       "      <th>MSE_Ratio</th>\n",
       "    </tr>\n",
       "  </thead>\n",
       "  <tbody>\n",
       "    <tr>\n",
       "      <th>0</th>\n",
       "      <td>0.504835</td>\n",
       "      <td>0.651061</td>\n",
       "      <td>MICRO</td>\n",
       "      <td>-0.518105</td>\n",
       "      <td>-1.020408</td>\n",
       "      <td>-22.459644</td>\n",
       "    </tr>\n",
       "    <tr>\n",
       "      <th>1</th>\n",
       "      <td>0.869515</td>\n",
       "      <td>0.975221</td>\n",
       "      <td>MICRO</td>\n",
       "      <td>-0.505090</td>\n",
       "      <td>-0.775510</td>\n",
       "      <td>-10.839131</td>\n",
       "    </tr>\n",
       "    <tr>\n",
       "      <th>2</th>\n",
       "      <td>0.241218</td>\n",
       "      <td>0.271305</td>\n",
       "      <td>MICRO</td>\n",
       "      <td>-0.515090</td>\n",
       "      <td>-0.775510</td>\n",
       "      <td>-11.089740</td>\n",
       "    </tr>\n",
       "    <tr>\n",
       "      <th>3</th>\n",
       "      <td>0.517072</td>\n",
       "      <td>0.626328</td>\n",
       "      <td>MICRO</td>\n",
       "      <td>-0.560277</td>\n",
       "      <td>-0.938776</td>\n",
       "      <td>-17.443952</td>\n",
       "    </tr>\n",
       "    <tr>\n",
       "      <th>4</th>\n",
       "      <td>0.296919</td>\n",
       "      <td>0.362953</td>\n",
       "      <td>MICRO</td>\n",
       "      <td>-0.529051</td>\n",
       "      <td>-0.938776</td>\n",
       "      <td>-18.193551</td>\n",
       "    </tr>\n",
       "  </tbody>\n",
       "</table>\n",
       "</div>"
      ],
      "text/plain": [
       "   mets_mse    ar_mse   series_type   ar_coef  mets_coef  MSE_Ratio\n",
       "0  0.504835  0.651061  MICRO        -0.518105  -1.020408 -22.459644\n",
       "1  0.869515  0.975221  MICRO        -0.505090  -0.775510 -10.839131\n",
       "2  0.241218  0.271305  MICRO        -0.515090  -0.775510 -11.089740\n",
       "3  0.517072  0.626328  MICRO        -0.560277  -0.938776 -17.443952\n",
       "4  0.296919  0.362953  MICRO        -0.529051  -0.938776 -18.193551"
      ]
     },
     "execution_count": 50,
     "metadata": {},
     "output_type": "execute_result"
    }
   ],
   "source": [
    "m3_df = pd.read_excel( 'C:/Users/michelj8/Documents/GitHub/exp_smooth_lasso/m3_data.xls', sheet_name = 'M3Month')\n",
    "\n",
    "ar_mse = []\n",
    "mets_mse  = []\n",
    "series_type = []\n",
    "\n",
    "ar_coef = []\n",
    "mets_coef = []\n",
    "\n",
    "# for index in m3_df.index:\n",
    "for index in range(0, 50):\n",
    "    ts = m3_df.drop(columns = ['Series','N','NF','Category', 'Starting Year','Starting Month']).loc[index].dropna()\n",
    "    series_type.append( m3_df.loc[index,'Category'] )\n",
    "    ts = np.log(ts).diff(1).dropna().values\n",
    "    mets_model = ols_mets(ts, 50)\n",
    "    mets_mse.append(mets_model[2] )\n",
    "    mets_coef.append(-1*mets_model[1])\n",
    "    \n",
    "    ar_model = ARIMA(ts,order = (1,0,0)).fit()\n",
    "    ar_mse.append(np.mean(np.square(ts- ar_model.predict())))\n",
    "    ar_coef.append(ar_model.params[1])\n",
    "    \n",
    "\n",
    "monthly_est_df = pd.DataFrame({'mets_mse':mets_mse, \n",
    "                              'ar_mse':ar_mse,\n",
    "                              'series_type':series_type,\n",
    "                             'ar_coef':ar_coef,\n",
    "                             'mets_coef':mets_coef})\n",
    "\n",
    "monthly_est_df['MSE_Ratio'] =  100*(monthly_est_df['mets_mse']-monthly_est_df['ar_mse'])/monthly_est_df['ar_mse']\n",
    "monthly_est_df.head()"
   ]
  },
  {
   "cell_type": "code",
   "execution_count": 51,
   "metadata": {},
   "outputs": [
    {
     "data": {
      "text/html": [
       "\n",
       "<div id=\"altair-viz-a973062c59bc4a428c2e9afa92dac277\"></div>\n",
       "<script type=\"text/javascript\">\n",
       "  (function(spec, embedOpt){\n",
       "    let outputDiv = document.currentScript.previousElementSibling;\n",
       "    if (outputDiv.id !== \"altair-viz-a973062c59bc4a428c2e9afa92dac277\") {\n",
       "      outputDiv = document.getElementById(\"altair-viz-a973062c59bc4a428c2e9afa92dac277\");\n",
       "    }\n",
       "    const paths = {\n",
       "      \"vega\": \"https://cdn.jsdelivr.net/npm//vega@5?noext\",\n",
       "      \"vega-lib\": \"https://cdn.jsdelivr.net/npm//vega-lib?noext\",\n",
       "      \"vega-lite\": \"https://cdn.jsdelivr.net/npm//vega-lite@4.8.1?noext\",\n",
       "      \"vega-embed\": \"https://cdn.jsdelivr.net/npm//vega-embed@6?noext\",\n",
       "    };\n",
       "\n",
       "    function loadScript(lib) {\n",
       "      return new Promise(function(resolve, reject) {\n",
       "        var s = document.createElement('script');\n",
       "        s.src = paths[lib];\n",
       "        s.async = true;\n",
       "        s.onload = () => resolve(paths[lib]);\n",
       "        s.onerror = () => reject(`Error loading script: ${paths[lib]}`);\n",
       "        document.getElementsByTagName(\"head\")[0].appendChild(s);\n",
       "      });\n",
       "    }\n",
       "\n",
       "    function showError(err) {\n",
       "      outputDiv.innerHTML = `<div class=\"error\" style=\"color:red;\">${err}</div>`;\n",
       "      throw err;\n",
       "    }\n",
       "\n",
       "    function displayChart(vegaEmbed) {\n",
       "      vegaEmbed(outputDiv, spec, embedOpt)\n",
       "        .catch(err => showError(`Javascript Error: ${err.message}<br>This usually means there's a typo in your chart specification. See the javascript console for the full traceback.`));\n",
       "    }\n",
       "\n",
       "    if(typeof define === \"function\" && define.amd) {\n",
       "      requirejs.config({paths});\n",
       "      require([\"vega-embed\"], displayChart, err => showError(`Error loading script: ${err.message}`));\n",
       "    } else if (typeof vegaEmbed === \"function\") {\n",
       "      displayChart(vegaEmbed);\n",
       "    } else {\n",
       "      loadScript(\"vega\")\n",
       "        .then(() => loadScript(\"vega-lite\"))\n",
       "        .then(() => loadScript(\"vega-embed\"))\n",
       "        .catch(showError)\n",
       "        .then(() => displayChart(vegaEmbed));\n",
       "    }\n",
       "  })({\"config\": {\"view\": {\"continuousWidth\": 400, \"continuousHeight\": 300}}, \"data\": {\"name\": \"data-513897bc4156b3b22e1fe1ac8e61c48d\"}, \"mark\": \"point\", \"encoding\": {\"color\": {\"type\": \"nominal\", \"field\": \"series_type\", \"title\": \"Series Type\"}, \"x\": {\"type\": \"quantitative\", \"field\": \"ar_coef\", \"title\": \"AR(1) Coefficient\"}, \"y\": {\"type\": \"quantitative\", \"field\": \"mets_coef\", \"title\": \"METS Coefficient\"}}, \"title\": \"Monthly M3 Estimation\", \"$schema\": \"https://vega.github.io/schema/vega-lite/v4.8.1.json\", \"datasets\": {\"data-513897bc4156b3b22e1fe1ac8e61c48d\": [{\"mets_mse\": 0.5048351853616839, \"ar_mse\": 0.651061218905013, \"series_type\": \"MICRO       \", \"ar_coef\": -0.5181052959713555, \"mets_coef\": -1.020408163265306, \"MSE_Ratio\": -22.459644238871924}, {\"mets_mse\": 0.8695154362964115, \"ar_mse\": 0.9752209057966952, \"series_type\": \"MICRO       \", \"ar_coef\": -0.5050898221786384, \"mets_coef\": -0.7755102040816326, \"MSE_Ratio\": -10.839130793030822}, {\"mets_mse\": 0.24121811558385453, \"ar_mse\": 0.2713051508069824, \"series_type\": \"MICRO       \", \"ar_coef\": -0.5150898771533178, \"mets_coef\": -0.7755102040816326, \"MSE_Ratio\": -11.08973977590755}, {\"mets_mse\": 0.5170719284499112, \"ar_mse\": 0.6263283420784566, \"series_type\": \"MICRO       \", \"ar_coef\": -0.5602768711703779, \"mets_coef\": -0.9387755102040813, \"MSE_Ratio\": -17.443951724423066}, {\"mets_mse\": 0.29691868187240267, \"ar_mse\": 0.36295266107692814, \"series_type\": \"MICRO       \", \"ar_coef\": -0.5290509415724591, \"mets_coef\": -0.9387755102040813, \"MSE_Ratio\": -18.193551469933848}, {\"mets_mse\": 0.7749386436019106, \"ar_mse\": 0.9114561511812878, \"series_type\": \"MICRO       \", \"ar_coef\": -0.6524910600805905, \"mets_coef\": -1.020408163265306, \"MSE_Ratio\": -14.977956690779301}, {\"mets_mse\": 0.258370532880224, \"ar_mse\": 0.29022296973786327, \"series_type\": \"MICRO       \", \"ar_coef\": -0.5737179389205688, \"mets_coef\": -0.8571428571428568, \"MSE_Ratio\": -10.975160541706677}, {\"mets_mse\": 0.5608022036580316, \"ar_mse\": 0.6117902991192327, \"series_type\": \"MICRO       \", \"ar_coef\": -0.49429312845097406, \"mets_coef\": -0.693877551020408, \"MSE_Ratio\": -8.33424386339672}, {\"mets_mse\": 0.22167136797282525, \"ar_mse\": 0.228767108445589, \"series_type\": \"MICRO       \", \"ar_coef\": -0.19810593554913927, \"mets_coef\": -0.36734693877551017, \"MSE_Ratio\": -3.1017310665757023}, {\"mets_mse\": 0.14248707793404933, \"ar_mse\": 0.1455411393478243, \"series_type\": \"MICRO       \", \"ar_coef\": -0.2333014890820101, \"mets_coef\": -0.36734693877551017, \"MSE_Ratio\": -2.098417964474069}, {\"mets_mse\": 0.13913787688210713, \"ar_mse\": 0.14657539203712197, \"series_type\": \"MICRO       \", \"ar_coef\": -0.3508682067326398, \"mets_coef\": -0.5306122448979589, \"MSE_Ratio\": -5.074190866316223}, {\"mets_mse\": 1.8405898809338934, \"ar_mse\": 1.92790951254578, \"series_type\": \"MICRO       \", \"ar_coef\": -0.6621720270812619, \"mets_coef\": -0.8571428571428568, \"MSE_Ratio\": -4.529239108145798}, {\"mets_mse\": 0.41515896630865295, \"ar_mse\": 0.43495871906105116, \"series_type\": \"MICRO       \", \"ar_coef\": -0.5492648568949341, \"mets_coef\": -0.693877551020408, \"MSE_Ratio\": -4.55209928775312}, {\"mets_mse\": 0.3956920752777144, \"ar_mse\": 0.41674234759604956, \"series_type\": \"MICRO       \", \"ar_coef\": -0.6377345372881218, \"mets_coef\": -0.8571428571428568, \"MSE_Ratio\": -5.051147895039289}, {\"mets_mse\": 0.31182390675777594, \"ar_mse\": 0.33868126430168044, \"series_type\": \"MICRO       \", \"ar_coef\": -0.5709755739188876, \"mets_coef\": -0.7755102040816326, \"MSE_Ratio\": -7.929980301473454}, {\"mets_mse\": 0.38832140101040147, \"ar_mse\": 0.41627591199837355, \"series_type\": \"MICRO       \", \"ar_coef\": -0.47834237529073015, \"mets_coef\": -0.693877551020408, \"MSE_Ratio\": -6.715380396087224}, {\"mets_mse\": 0.3610672839460114, \"ar_mse\": 0.44439408504293887, \"series_type\": \"MICRO       \", \"ar_coef\": -0.5011657743531429, \"mets_coef\": -0.8571428571428568, \"MSE_Ratio\": -18.750654858260805}, {\"mets_mse\": 0.17901761604813932, \"ar_mse\": 0.19614307735185768, \"series_type\": \"MICRO       \", \"ar_coef\": -0.6214857137068632, \"mets_coef\": -0.7755102040816326, \"MSE_Ratio\": -8.731106667097558}, {\"mets_mse\": 0.11769418168363727, \"ar_mse\": 0.12609750287555585, \"series_type\": \"MICRO       \", \"ar_coef\": -0.5559441753162208, \"mets_coef\": -0.7755102040816326, \"MSE_Ratio\": -6.664145601845679}, {\"mets_mse\": 0.07358368127417077, \"ar_mse\": 0.08112202398955357, \"series_type\": \"MICRO       \", \"ar_coef\": -0.43623824249242393, \"mets_coef\": -0.693877551020408, \"MSE_Ratio\": -9.29259693564049}, {\"mets_mse\": 0.12851115660654416, \"ar_mse\": 0.13545010337569327, \"series_type\": \"MICRO       \", \"ar_coef\": -0.4795479135902883, \"mets_coef\": -0.6122448979591835, \"MSE_Ratio\": -5.122880378985603}, {\"mets_mse\": 0.3132651811207033, \"ar_mse\": 0.3640312013116677, \"series_type\": \"MICRO       \", \"ar_coef\": -0.49557948213456227, \"mets_coef\": -0.7755102040816326, \"MSE_Ratio\": -13.94551346369367}, {\"mets_mse\": 0.047058374761696796, \"ar_mse\": 0.05070663670397876, \"series_type\": \"MICRO       \", \"ar_coef\": -0.4102662521733996, \"mets_coef\": -0.6122448979591835, \"MSE_Ratio\": -7.194841108433633}, {\"mets_mse\": 0.46639209151262634, \"ar_mse\": 0.5126594539850797, \"series_type\": \"MICRO       \", \"ar_coef\": -0.40907722628423193, \"mets_coef\": -0.693877551020408, \"MSE_Ratio\": -9.024970106920128}, {\"mets_mse\": 0.03682885542404195, \"ar_mse\": 0.04003738516976509, \"series_type\": \"MICRO       \", \"ar_coef\": -0.4305474164313927, \"mets_coef\": -0.693877551020408, \"MSE_Ratio\": -8.013834400319729}, {\"mets_mse\": 0.24602217815464705, \"ar_mse\": 0.26114336631619045, \"series_type\": \"MICRO       \", \"ar_coef\": -0.4018115173017519, \"mets_coef\": -0.6122448979591835, \"MSE_Ratio\": -5.790378049747116}, {\"mets_mse\": 0.07591174400542045, \"ar_mse\": 0.08396620656636526, \"series_type\": \"MICRO       \", \"ar_coef\": -0.3739370887131417, \"mets_coef\": -0.693877551020408, \"MSE_Ratio\": -9.592504997327378}, {\"mets_mse\": 0.0674029663658758, \"ar_mse\": 0.07908298994397377, \"series_type\": \"MICRO       \", \"ar_coef\": -0.552107708478407, \"mets_coef\": -0.8571428571428568, \"MSE_Ratio\": -14.769324713661769}, {\"mets_mse\": 0.19142659562171213, \"ar_mse\": 0.2210425028582997, \"series_type\": \"MICRO       \", \"ar_coef\": -0.494740160138523, \"mets_coef\": -0.693877551020408, \"MSE_Ratio\": -13.39828623618734}, {\"mets_mse\": 0.18641293191384345, \"ar_mse\": 0.2134601359196357, \"series_type\": \"MICRO       \", \"ar_coef\": -0.5953037886233891, \"mets_coef\": -0.7755102040816326, \"MSE_Ratio\": -12.670845490314447}, {\"mets_mse\": 0.25224500974569136, \"ar_mse\": 0.27826724943204667, \"series_type\": \"MICRO       \", \"ar_coef\": -0.4973969306060178, \"mets_coef\": -0.7755102040816326, \"MSE_Ratio\": -9.351527978756977}, {\"mets_mse\": 0.1460342586050467, \"ar_mse\": 0.1571607206863984, \"series_type\": \"MICRO       \", \"ar_coef\": -0.5122053750061798, \"mets_coef\": -0.693877551020408, \"MSE_Ratio\": -7.0796710735080195}, {\"mets_mse\": 0.09178614181517052, \"ar_mse\": 0.10554382862233533, \"series_type\": \"MICRO       \", \"ar_coef\": -0.4470852765638474, \"mets_coef\": -0.7755102040816326, \"MSE_Ratio\": -13.03504618578276}, {\"mets_mse\": 0.0973262354761601, \"ar_mse\": 0.11780093763365285, \"series_type\": \"MICRO       \", \"ar_coef\": -0.5323963409573863, \"mets_coef\": -0.9387755102040813, \"MSE_Ratio\": -17.380763318851233}, {\"mets_mse\": 0.17933122783213132, \"ar_mse\": 0.21100602892440015, \"series_type\": \"MICRO       \", \"ar_coef\": -0.49819750721887807, \"mets_coef\": -0.8571428571428568, \"MSE_Ratio\": -15.011325152049269}, {\"mets_mse\": 0.11388125650672815, \"ar_mse\": 0.12632966442365134, \"series_type\": \"MICRO       \", \"ar_coef\": -0.5917054809886352, \"mets_coef\": -0.7755102040816326, \"MSE_Ratio\": -9.853907214679989}, {\"mets_mse\": 0.09968464855461845, \"ar_mse\": 0.1149802671664771, \"series_type\": \"MICRO       \", \"ar_coef\": -0.4897746565574561, \"mets_coef\": -0.7755102040816326, \"MSE_Ratio\": -13.302820552427917}, {\"mets_mse\": 0.19118928522404233, \"ar_mse\": 0.22267990046039635, \"series_type\": \"MICRO       \", \"ar_coef\": -0.523109320826631, \"mets_coef\": -0.8571428571428568, \"MSE_Ratio\": -14.14165138894277}, {\"mets_mse\": 0.07171651869335434, \"ar_mse\": 0.09276811965672381, \"series_type\": \"MICRO       \", \"ar_coef\": -0.45478059785288766, \"mets_coef\": -1.020408163265306, \"MSE_Ratio\": -22.692710643773037}, {\"mets_mse\": 0.2962494559625241, \"ar_mse\": 0.33123317858760387, \"series_type\": \"MICRO       \", \"ar_coef\": -0.45714787582058714, \"mets_coef\": -0.6122448979591835, \"MSE_Ratio\": -10.561660149581705}, {\"mets_mse\": 0.0828395265419054, \"ar_mse\": 0.09183401847702492, \"series_type\": \"MICRO       \", \"ar_coef\": -0.5055927088800747, \"mets_coef\": -0.693877551020408, \"MSE_Ratio\": -9.794292011047915}, {\"mets_mse\": 0.1855738002727244, \"ar_mse\": 0.19238355223346068, \"series_type\": \"MICRO       \", \"ar_coef\": -0.4352244529400506, \"mets_coef\": -0.5306122448979589, \"MSE_Ratio\": -3.5396747183836808}, {\"mets_mse\": 0.17166853753417755, \"ar_mse\": 0.20917297537131296, \"series_type\": \"MICRO       \", \"ar_coef\": -0.4980756040150694, \"mets_coef\": -0.8571428571428568, \"MSE_Ratio\": -17.9298677425033}, {\"mets_mse\": 0.14408277307106374, \"ar_mse\": 0.16038407503426266, \"series_type\": \"MICRO       \", \"ar_coef\": -0.5414256107386413, \"mets_coef\": -0.7755102040816326, \"MSE_Ratio\": -10.163915563135864}, {\"mets_mse\": 0.18687191266843506, \"ar_mse\": 0.2360389541389075, \"series_type\": \"MICRO       \", \"ar_coef\": -0.6046570355477032, \"mets_coef\": -1.020408163265306, \"MSE_Ratio\": -20.830053941663344}, {\"mets_mse\": 0.03821591565632445, \"ar_mse\": 0.054577584198362505, \"series_type\": \"MICRO       \", \"ar_coef\": -0.6253598446989382, \"mets_coef\": -1.1836734693877546, \"MSE_Ratio\": -29.97873354484048}, {\"mets_mse\": 0.23925848696500507, \"ar_mse\": 0.25344076895010526, \"series_type\": \"MICRO       \", \"ar_coef\": -0.553860674694628, \"mets_coef\": -0.7755102040816326, \"MSE_Ratio\": -5.595896052498264}, {\"mets_mse\": 0.06307794827190491, \"ar_mse\": 0.07833293759637475, \"series_type\": \"MICRO       \", \"ar_coef\": -0.5182880339852098, \"mets_coef\": -0.9387755102040813, \"MSE_Ratio\": -19.47455284145483}, {\"mets_mse\": 0.10736206092133967, \"ar_mse\": 0.12035842227925278, \"series_type\": \"MICRO       \", \"ar_coef\": -0.523741899378502, \"mets_coef\": -0.7755102040816326, \"MSE_Ratio\": -10.798048953947951}, {\"mets_mse\": 0.11873613961682128, \"ar_mse\": 0.1258432893844835, \"series_type\": \"MICRO       \", \"ar_coef\": -0.512367890018825, \"mets_coef\": -0.693877551020408, \"MSE_Ratio\": -5.647619195607685}]}}, {\"mode\": \"vega-lite\"});\n",
       "</script>"
      ],
      "text/plain": [
       "alt.Chart(...)"
      ]
     },
     "execution_count": 51,
     "metadata": {},
     "output_type": "execute_result"
    }
   ],
   "source": [
    "(altair.Chart(monthly_est_df, title = 'Monthly M3 Estimation')\n",
    " .mark_point()\n",
    " .encode(x=altair.X('ar_coef', title = 'AR(1) Coefficient'),\n",
    "         y=altair.Y('mets_coef',title = 'METS Coefficient'),\n",
    "         color=altair.Color('series_type', title = 'Series Type') )\n",
    ")"
   ]
  },
  {
   "cell_type": "code",
   "execution_count": 52,
   "metadata": {},
   "outputs": [
    {
     "data": {
      "text/html": [
       "\n",
       "<div id=\"altair-viz-35419558b53f462aace6c1bed7cb0f60\"></div>\n",
       "<script type=\"text/javascript\">\n",
       "  (function(spec, embedOpt){\n",
       "    let outputDiv = document.currentScript.previousElementSibling;\n",
       "    if (outputDiv.id !== \"altair-viz-35419558b53f462aace6c1bed7cb0f60\") {\n",
       "      outputDiv = document.getElementById(\"altair-viz-35419558b53f462aace6c1bed7cb0f60\");\n",
       "    }\n",
       "    const paths = {\n",
       "      \"vega\": \"https://cdn.jsdelivr.net/npm//vega@5?noext\",\n",
       "      \"vega-lib\": \"https://cdn.jsdelivr.net/npm//vega-lib?noext\",\n",
       "      \"vega-lite\": \"https://cdn.jsdelivr.net/npm//vega-lite@4.8.1?noext\",\n",
       "      \"vega-embed\": \"https://cdn.jsdelivr.net/npm//vega-embed@6?noext\",\n",
       "    };\n",
       "\n",
       "    function loadScript(lib) {\n",
       "      return new Promise(function(resolve, reject) {\n",
       "        var s = document.createElement('script');\n",
       "        s.src = paths[lib];\n",
       "        s.async = true;\n",
       "        s.onload = () => resolve(paths[lib]);\n",
       "        s.onerror = () => reject(`Error loading script: ${paths[lib]}`);\n",
       "        document.getElementsByTagName(\"head\")[0].appendChild(s);\n",
       "      });\n",
       "    }\n",
       "\n",
       "    function showError(err) {\n",
       "      outputDiv.innerHTML = `<div class=\"error\" style=\"color:red;\">${err}</div>`;\n",
       "      throw err;\n",
       "    }\n",
       "\n",
       "    function displayChart(vegaEmbed) {\n",
       "      vegaEmbed(outputDiv, spec, embedOpt)\n",
       "        .catch(err => showError(`Javascript Error: ${err.message}<br>This usually means there's a typo in your chart specification. See the javascript console for the full traceback.`));\n",
       "    }\n",
       "\n",
       "    if(typeof define === \"function\" && define.amd) {\n",
       "      requirejs.config({paths});\n",
       "      require([\"vega-embed\"], displayChart, err => showError(`Error loading script: ${err.message}`));\n",
       "    } else if (typeof vegaEmbed === \"function\") {\n",
       "      displayChart(vegaEmbed);\n",
       "    } else {\n",
       "      loadScript(\"vega\")\n",
       "        .then(() => loadScript(\"vega-lite\"))\n",
       "        .then(() => loadScript(\"vega-embed\"))\n",
       "        .catch(showError)\n",
       "        .then(() => displayChart(vegaEmbed));\n",
       "    }\n",
       "  })({\"config\": {\"view\": {\"continuousWidth\": 400, \"continuousHeight\": 300}}, \"data\": {\"name\": \"data-513897bc4156b3b22e1fe1ac8e61c48d\"}, \"mark\": \"bar\", \"encoding\": {\"color\": {\"type\": \"nominal\", \"field\": \"series_type\"}, \"x\": {\"type\": \"quantitative\", \"bin\": true, \"field\": \"MSE_Ratio\"}, \"y\": {\"type\": \"quantitative\", \"aggregate\": \"count\"}}, \"$schema\": \"https://vega.github.io/schema/vega-lite/v4.8.1.json\", \"datasets\": {\"data-513897bc4156b3b22e1fe1ac8e61c48d\": [{\"mets_mse\": 0.5048351853616839, \"ar_mse\": 0.651061218905013, \"series_type\": \"MICRO       \", \"ar_coef\": -0.5181052959713555, \"mets_coef\": -1.020408163265306, \"MSE_Ratio\": -22.459644238871924}, {\"mets_mse\": 0.8695154362964115, \"ar_mse\": 0.9752209057966952, \"series_type\": \"MICRO       \", \"ar_coef\": -0.5050898221786384, \"mets_coef\": -0.7755102040816326, \"MSE_Ratio\": -10.839130793030822}, {\"mets_mse\": 0.24121811558385453, \"ar_mse\": 0.2713051508069824, \"series_type\": \"MICRO       \", \"ar_coef\": -0.5150898771533178, \"mets_coef\": -0.7755102040816326, \"MSE_Ratio\": -11.08973977590755}, {\"mets_mse\": 0.5170719284499112, \"ar_mse\": 0.6263283420784566, \"series_type\": \"MICRO       \", \"ar_coef\": -0.5602768711703779, \"mets_coef\": -0.9387755102040813, \"MSE_Ratio\": -17.443951724423066}, {\"mets_mse\": 0.29691868187240267, \"ar_mse\": 0.36295266107692814, \"series_type\": \"MICRO       \", \"ar_coef\": -0.5290509415724591, \"mets_coef\": -0.9387755102040813, \"MSE_Ratio\": -18.193551469933848}, {\"mets_mse\": 0.7749386436019106, \"ar_mse\": 0.9114561511812878, \"series_type\": \"MICRO       \", \"ar_coef\": -0.6524910600805905, \"mets_coef\": -1.020408163265306, \"MSE_Ratio\": -14.977956690779301}, {\"mets_mse\": 0.258370532880224, \"ar_mse\": 0.29022296973786327, \"series_type\": \"MICRO       \", \"ar_coef\": -0.5737179389205688, \"mets_coef\": -0.8571428571428568, \"MSE_Ratio\": -10.975160541706677}, {\"mets_mse\": 0.5608022036580316, \"ar_mse\": 0.6117902991192327, \"series_type\": \"MICRO       \", \"ar_coef\": -0.49429312845097406, \"mets_coef\": -0.693877551020408, \"MSE_Ratio\": -8.33424386339672}, {\"mets_mse\": 0.22167136797282525, \"ar_mse\": 0.228767108445589, \"series_type\": \"MICRO       \", \"ar_coef\": -0.19810593554913927, \"mets_coef\": -0.36734693877551017, \"MSE_Ratio\": -3.1017310665757023}, {\"mets_mse\": 0.14248707793404933, \"ar_mse\": 0.1455411393478243, \"series_type\": \"MICRO       \", \"ar_coef\": -0.2333014890820101, \"mets_coef\": -0.36734693877551017, \"MSE_Ratio\": -2.098417964474069}, {\"mets_mse\": 0.13913787688210713, \"ar_mse\": 0.14657539203712197, \"series_type\": \"MICRO       \", \"ar_coef\": -0.3508682067326398, \"mets_coef\": -0.5306122448979589, \"MSE_Ratio\": -5.074190866316223}, {\"mets_mse\": 1.8405898809338934, \"ar_mse\": 1.92790951254578, \"series_type\": \"MICRO       \", \"ar_coef\": -0.6621720270812619, \"mets_coef\": -0.8571428571428568, \"MSE_Ratio\": -4.529239108145798}, {\"mets_mse\": 0.41515896630865295, \"ar_mse\": 0.43495871906105116, \"series_type\": \"MICRO       \", \"ar_coef\": -0.5492648568949341, \"mets_coef\": -0.693877551020408, \"MSE_Ratio\": -4.55209928775312}, {\"mets_mse\": 0.3956920752777144, \"ar_mse\": 0.41674234759604956, \"series_type\": \"MICRO       \", \"ar_coef\": -0.6377345372881218, \"mets_coef\": -0.8571428571428568, \"MSE_Ratio\": -5.051147895039289}, {\"mets_mse\": 0.31182390675777594, \"ar_mse\": 0.33868126430168044, \"series_type\": \"MICRO       \", \"ar_coef\": -0.5709755739188876, \"mets_coef\": -0.7755102040816326, \"MSE_Ratio\": -7.929980301473454}, {\"mets_mse\": 0.38832140101040147, \"ar_mse\": 0.41627591199837355, \"series_type\": \"MICRO       \", \"ar_coef\": -0.47834237529073015, \"mets_coef\": -0.693877551020408, \"MSE_Ratio\": -6.715380396087224}, {\"mets_mse\": 0.3610672839460114, \"ar_mse\": 0.44439408504293887, \"series_type\": \"MICRO       \", \"ar_coef\": -0.5011657743531429, \"mets_coef\": -0.8571428571428568, \"MSE_Ratio\": -18.750654858260805}, {\"mets_mse\": 0.17901761604813932, \"ar_mse\": 0.19614307735185768, \"series_type\": \"MICRO       \", \"ar_coef\": -0.6214857137068632, \"mets_coef\": -0.7755102040816326, \"MSE_Ratio\": -8.731106667097558}, {\"mets_mse\": 0.11769418168363727, \"ar_mse\": 0.12609750287555585, \"series_type\": \"MICRO       \", \"ar_coef\": -0.5559441753162208, \"mets_coef\": -0.7755102040816326, \"MSE_Ratio\": -6.664145601845679}, {\"mets_mse\": 0.07358368127417077, \"ar_mse\": 0.08112202398955357, \"series_type\": \"MICRO       \", \"ar_coef\": -0.43623824249242393, \"mets_coef\": -0.693877551020408, \"MSE_Ratio\": -9.29259693564049}, {\"mets_mse\": 0.12851115660654416, \"ar_mse\": 0.13545010337569327, \"series_type\": \"MICRO       \", \"ar_coef\": -0.4795479135902883, \"mets_coef\": -0.6122448979591835, \"MSE_Ratio\": -5.122880378985603}, {\"mets_mse\": 0.3132651811207033, \"ar_mse\": 0.3640312013116677, \"series_type\": \"MICRO       \", \"ar_coef\": -0.49557948213456227, \"mets_coef\": -0.7755102040816326, \"MSE_Ratio\": -13.94551346369367}, {\"mets_mse\": 0.047058374761696796, \"ar_mse\": 0.05070663670397876, \"series_type\": \"MICRO       \", \"ar_coef\": -0.4102662521733996, \"mets_coef\": -0.6122448979591835, \"MSE_Ratio\": -7.194841108433633}, {\"mets_mse\": 0.46639209151262634, \"ar_mse\": 0.5126594539850797, \"series_type\": \"MICRO       \", \"ar_coef\": -0.40907722628423193, \"mets_coef\": -0.693877551020408, \"MSE_Ratio\": -9.024970106920128}, {\"mets_mse\": 0.03682885542404195, \"ar_mse\": 0.04003738516976509, \"series_type\": \"MICRO       \", \"ar_coef\": -0.4305474164313927, \"mets_coef\": -0.693877551020408, \"MSE_Ratio\": -8.013834400319729}, {\"mets_mse\": 0.24602217815464705, \"ar_mse\": 0.26114336631619045, \"series_type\": \"MICRO       \", \"ar_coef\": -0.4018115173017519, \"mets_coef\": -0.6122448979591835, \"MSE_Ratio\": -5.790378049747116}, {\"mets_mse\": 0.07591174400542045, \"ar_mse\": 0.08396620656636526, \"series_type\": \"MICRO       \", \"ar_coef\": -0.3739370887131417, \"mets_coef\": -0.693877551020408, \"MSE_Ratio\": -9.592504997327378}, {\"mets_mse\": 0.0674029663658758, \"ar_mse\": 0.07908298994397377, \"series_type\": \"MICRO       \", \"ar_coef\": -0.552107708478407, \"mets_coef\": -0.8571428571428568, \"MSE_Ratio\": -14.769324713661769}, {\"mets_mse\": 0.19142659562171213, \"ar_mse\": 0.2210425028582997, \"series_type\": \"MICRO       \", \"ar_coef\": -0.494740160138523, \"mets_coef\": -0.693877551020408, \"MSE_Ratio\": -13.39828623618734}, {\"mets_mse\": 0.18641293191384345, \"ar_mse\": 0.2134601359196357, \"series_type\": \"MICRO       \", \"ar_coef\": -0.5953037886233891, \"mets_coef\": -0.7755102040816326, \"MSE_Ratio\": -12.670845490314447}, {\"mets_mse\": 0.25224500974569136, \"ar_mse\": 0.27826724943204667, \"series_type\": \"MICRO       \", \"ar_coef\": -0.4973969306060178, \"mets_coef\": -0.7755102040816326, \"MSE_Ratio\": -9.351527978756977}, {\"mets_mse\": 0.1460342586050467, \"ar_mse\": 0.1571607206863984, \"series_type\": \"MICRO       \", \"ar_coef\": -0.5122053750061798, \"mets_coef\": -0.693877551020408, \"MSE_Ratio\": -7.0796710735080195}, {\"mets_mse\": 0.09178614181517052, \"ar_mse\": 0.10554382862233533, \"series_type\": \"MICRO       \", \"ar_coef\": -0.4470852765638474, \"mets_coef\": -0.7755102040816326, \"MSE_Ratio\": -13.03504618578276}, {\"mets_mse\": 0.0973262354761601, \"ar_mse\": 0.11780093763365285, \"series_type\": \"MICRO       \", \"ar_coef\": -0.5323963409573863, \"mets_coef\": -0.9387755102040813, \"MSE_Ratio\": -17.380763318851233}, {\"mets_mse\": 0.17933122783213132, \"ar_mse\": 0.21100602892440015, \"series_type\": \"MICRO       \", \"ar_coef\": -0.49819750721887807, \"mets_coef\": -0.8571428571428568, \"MSE_Ratio\": -15.011325152049269}, {\"mets_mse\": 0.11388125650672815, \"ar_mse\": 0.12632966442365134, \"series_type\": \"MICRO       \", \"ar_coef\": -0.5917054809886352, \"mets_coef\": -0.7755102040816326, \"MSE_Ratio\": -9.853907214679989}, {\"mets_mse\": 0.09968464855461845, \"ar_mse\": 0.1149802671664771, \"series_type\": \"MICRO       \", \"ar_coef\": -0.4897746565574561, \"mets_coef\": -0.7755102040816326, \"MSE_Ratio\": -13.302820552427917}, {\"mets_mse\": 0.19118928522404233, \"ar_mse\": 0.22267990046039635, \"series_type\": \"MICRO       \", \"ar_coef\": -0.523109320826631, \"mets_coef\": -0.8571428571428568, \"MSE_Ratio\": -14.14165138894277}, {\"mets_mse\": 0.07171651869335434, \"ar_mse\": 0.09276811965672381, \"series_type\": \"MICRO       \", \"ar_coef\": -0.45478059785288766, \"mets_coef\": -1.020408163265306, \"MSE_Ratio\": -22.692710643773037}, {\"mets_mse\": 0.2962494559625241, \"ar_mse\": 0.33123317858760387, \"series_type\": \"MICRO       \", \"ar_coef\": -0.45714787582058714, \"mets_coef\": -0.6122448979591835, \"MSE_Ratio\": -10.561660149581705}, {\"mets_mse\": 0.0828395265419054, \"ar_mse\": 0.09183401847702492, \"series_type\": \"MICRO       \", \"ar_coef\": -0.5055927088800747, \"mets_coef\": -0.693877551020408, \"MSE_Ratio\": -9.794292011047915}, {\"mets_mse\": 0.1855738002727244, \"ar_mse\": 0.19238355223346068, \"series_type\": \"MICRO       \", \"ar_coef\": -0.4352244529400506, \"mets_coef\": -0.5306122448979589, \"MSE_Ratio\": -3.5396747183836808}, {\"mets_mse\": 0.17166853753417755, \"ar_mse\": 0.20917297537131296, \"series_type\": \"MICRO       \", \"ar_coef\": -0.4980756040150694, \"mets_coef\": -0.8571428571428568, \"MSE_Ratio\": -17.9298677425033}, {\"mets_mse\": 0.14408277307106374, \"ar_mse\": 0.16038407503426266, \"series_type\": \"MICRO       \", \"ar_coef\": -0.5414256107386413, \"mets_coef\": -0.7755102040816326, \"MSE_Ratio\": -10.163915563135864}, {\"mets_mse\": 0.18687191266843506, \"ar_mse\": 0.2360389541389075, \"series_type\": \"MICRO       \", \"ar_coef\": -0.6046570355477032, \"mets_coef\": -1.020408163265306, \"MSE_Ratio\": -20.830053941663344}, {\"mets_mse\": 0.03821591565632445, \"ar_mse\": 0.054577584198362505, \"series_type\": \"MICRO       \", \"ar_coef\": -0.6253598446989382, \"mets_coef\": -1.1836734693877546, \"MSE_Ratio\": -29.97873354484048}, {\"mets_mse\": 0.23925848696500507, \"ar_mse\": 0.25344076895010526, \"series_type\": \"MICRO       \", \"ar_coef\": -0.553860674694628, \"mets_coef\": -0.7755102040816326, \"MSE_Ratio\": -5.595896052498264}, {\"mets_mse\": 0.06307794827190491, \"ar_mse\": 0.07833293759637475, \"series_type\": \"MICRO       \", \"ar_coef\": -0.5182880339852098, \"mets_coef\": -0.9387755102040813, \"MSE_Ratio\": -19.47455284145483}, {\"mets_mse\": 0.10736206092133967, \"ar_mse\": 0.12035842227925278, \"series_type\": \"MICRO       \", \"ar_coef\": -0.523741899378502, \"mets_coef\": -0.7755102040816326, \"MSE_Ratio\": -10.798048953947951}, {\"mets_mse\": 0.11873613961682128, \"ar_mse\": 0.1258432893844835, \"series_type\": \"MICRO       \", \"ar_coef\": -0.512367890018825, \"mets_coef\": -0.693877551020408, \"MSE_Ratio\": -5.647619195607685}]}}, {\"mode\": \"vega-lite\"});\n",
       "</script>"
      ],
      "text/plain": [
       "alt.Chart(...)"
      ]
     },
     "execution_count": 52,
     "metadata": {},
     "output_type": "execute_result"
    }
   ],
   "source": [
    "altair.Chart(monthly_est_df).mark_bar().encode(\n",
    "    altair.X(\"MSE_Ratio\", bin=True),\n",
    "    y='count()',\n",
    "    color = altair.Color('series_type')\n",
    ")"
   ]
  },
  {
   "cell_type": "code",
   "execution_count": 54,
   "metadata": {},
   "outputs": [
    {
     "data": {
      "text/html": [
       "\n",
       "<div id=\"altair-viz-af274ae1f10f4682ab51d32b86317106\"></div>\n",
       "<script type=\"text/javascript\">\n",
       "  (function(spec, embedOpt){\n",
       "    let outputDiv = document.currentScript.previousElementSibling;\n",
       "    if (outputDiv.id !== \"altair-viz-af274ae1f10f4682ab51d32b86317106\") {\n",
       "      outputDiv = document.getElementById(\"altair-viz-af274ae1f10f4682ab51d32b86317106\");\n",
       "    }\n",
       "    const paths = {\n",
       "      \"vega\": \"https://cdn.jsdelivr.net/npm//vega@5?noext\",\n",
       "      \"vega-lib\": \"https://cdn.jsdelivr.net/npm//vega-lib?noext\",\n",
       "      \"vega-lite\": \"https://cdn.jsdelivr.net/npm//vega-lite@4.8.1?noext\",\n",
       "      \"vega-embed\": \"https://cdn.jsdelivr.net/npm//vega-embed@6?noext\",\n",
       "    };\n",
       "\n",
       "    function loadScript(lib) {\n",
       "      return new Promise(function(resolve, reject) {\n",
       "        var s = document.createElement('script');\n",
       "        s.src = paths[lib];\n",
       "        s.async = true;\n",
       "        s.onload = () => resolve(paths[lib]);\n",
       "        s.onerror = () => reject(`Error loading script: ${paths[lib]}`);\n",
       "        document.getElementsByTagName(\"head\")[0].appendChild(s);\n",
       "      });\n",
       "    }\n",
       "\n",
       "    function showError(err) {\n",
       "      outputDiv.innerHTML = `<div class=\"error\" style=\"color:red;\">${err}</div>`;\n",
       "      throw err;\n",
       "    }\n",
       "\n",
       "    function displayChart(vegaEmbed) {\n",
       "      vegaEmbed(outputDiv, spec, embedOpt)\n",
       "        .catch(err => showError(`Javascript Error: ${err.message}<br>This usually means there's a typo in your chart specification. See the javascript console for the full traceback.`));\n",
       "    }\n",
       "\n",
       "    if(typeof define === \"function\" && define.amd) {\n",
       "      requirejs.config({paths});\n",
       "      require([\"vega-embed\"], displayChart, err => showError(`Error loading script: ${err.message}`));\n",
       "    } else if (typeof vegaEmbed === \"function\") {\n",
       "      displayChart(vegaEmbed);\n",
       "    } else {\n",
       "      loadScript(\"vega\")\n",
       "        .then(() => loadScript(\"vega-lite\"))\n",
       "        .then(() => loadScript(\"vega-embed\"))\n",
       "        .catch(showError)\n",
       "        .then(() => displayChart(vegaEmbed));\n",
       "    }\n",
       "  })({\"config\": {\"view\": {\"continuousWidth\": 400, \"continuousHeight\": 300}}, \"data\": {\"name\": \"data-513897bc4156b3b22e1fe1ac8e61c48d\"}, \"mark\": \"point\", \"encoding\": {\"color\": {\"type\": \"nominal\", \"field\": \"series_type\", \"title\": \"Series Type\"}, \"x\": {\"type\": \"quantitative\", \"field\": \"mets_coef\", \"title\": \"METS Coefficient\"}, \"y\": {\"type\": \"quantitative\", \"field\": \"MSE_Ratio\", \"title\": \"Ratio of MSE\"}}, \"title\": \"Monthly M3 Estimation\", \"$schema\": \"https://vega.github.io/schema/vega-lite/v4.8.1.json\", \"datasets\": {\"data-513897bc4156b3b22e1fe1ac8e61c48d\": [{\"mets_mse\": 0.5048351853616839, \"ar_mse\": 0.651061218905013, \"series_type\": \"MICRO       \", \"ar_coef\": -0.5181052959713555, \"mets_coef\": -1.020408163265306, \"MSE_Ratio\": -22.459644238871924}, {\"mets_mse\": 0.8695154362964115, \"ar_mse\": 0.9752209057966952, \"series_type\": \"MICRO       \", \"ar_coef\": -0.5050898221786384, \"mets_coef\": -0.7755102040816326, \"MSE_Ratio\": -10.839130793030822}, {\"mets_mse\": 0.24121811558385453, \"ar_mse\": 0.2713051508069824, \"series_type\": \"MICRO       \", \"ar_coef\": -0.5150898771533178, \"mets_coef\": -0.7755102040816326, \"MSE_Ratio\": -11.08973977590755}, {\"mets_mse\": 0.5170719284499112, \"ar_mse\": 0.6263283420784566, \"series_type\": \"MICRO       \", \"ar_coef\": -0.5602768711703779, \"mets_coef\": -0.9387755102040813, \"MSE_Ratio\": -17.443951724423066}, {\"mets_mse\": 0.29691868187240267, \"ar_mse\": 0.36295266107692814, \"series_type\": \"MICRO       \", \"ar_coef\": -0.5290509415724591, \"mets_coef\": -0.9387755102040813, \"MSE_Ratio\": -18.193551469933848}, {\"mets_mse\": 0.7749386436019106, \"ar_mse\": 0.9114561511812878, \"series_type\": \"MICRO       \", \"ar_coef\": -0.6524910600805905, \"mets_coef\": -1.020408163265306, \"MSE_Ratio\": -14.977956690779301}, {\"mets_mse\": 0.258370532880224, \"ar_mse\": 0.29022296973786327, \"series_type\": \"MICRO       \", \"ar_coef\": -0.5737179389205688, \"mets_coef\": -0.8571428571428568, \"MSE_Ratio\": -10.975160541706677}, {\"mets_mse\": 0.5608022036580316, \"ar_mse\": 0.6117902991192327, \"series_type\": \"MICRO       \", \"ar_coef\": -0.49429312845097406, \"mets_coef\": -0.693877551020408, \"MSE_Ratio\": -8.33424386339672}, {\"mets_mse\": 0.22167136797282525, \"ar_mse\": 0.228767108445589, \"series_type\": \"MICRO       \", \"ar_coef\": -0.19810593554913927, \"mets_coef\": -0.36734693877551017, \"MSE_Ratio\": -3.1017310665757023}, {\"mets_mse\": 0.14248707793404933, \"ar_mse\": 0.1455411393478243, \"series_type\": \"MICRO       \", \"ar_coef\": -0.2333014890820101, \"mets_coef\": -0.36734693877551017, \"MSE_Ratio\": -2.098417964474069}, {\"mets_mse\": 0.13913787688210713, \"ar_mse\": 0.14657539203712197, \"series_type\": \"MICRO       \", \"ar_coef\": -0.3508682067326398, \"mets_coef\": -0.5306122448979589, \"MSE_Ratio\": -5.074190866316223}, {\"mets_mse\": 1.8405898809338934, \"ar_mse\": 1.92790951254578, \"series_type\": \"MICRO       \", \"ar_coef\": -0.6621720270812619, \"mets_coef\": -0.8571428571428568, \"MSE_Ratio\": -4.529239108145798}, {\"mets_mse\": 0.41515896630865295, \"ar_mse\": 0.43495871906105116, \"series_type\": \"MICRO       \", \"ar_coef\": -0.5492648568949341, \"mets_coef\": -0.693877551020408, \"MSE_Ratio\": -4.55209928775312}, {\"mets_mse\": 0.3956920752777144, \"ar_mse\": 0.41674234759604956, \"series_type\": \"MICRO       \", \"ar_coef\": -0.6377345372881218, \"mets_coef\": -0.8571428571428568, \"MSE_Ratio\": -5.051147895039289}, {\"mets_mse\": 0.31182390675777594, \"ar_mse\": 0.33868126430168044, \"series_type\": \"MICRO       \", \"ar_coef\": -0.5709755739188876, \"mets_coef\": -0.7755102040816326, \"MSE_Ratio\": -7.929980301473454}, {\"mets_mse\": 0.38832140101040147, \"ar_mse\": 0.41627591199837355, \"series_type\": \"MICRO       \", \"ar_coef\": -0.47834237529073015, \"mets_coef\": -0.693877551020408, \"MSE_Ratio\": -6.715380396087224}, {\"mets_mse\": 0.3610672839460114, \"ar_mse\": 0.44439408504293887, \"series_type\": \"MICRO       \", \"ar_coef\": -0.5011657743531429, \"mets_coef\": -0.8571428571428568, \"MSE_Ratio\": -18.750654858260805}, {\"mets_mse\": 0.17901761604813932, \"ar_mse\": 0.19614307735185768, \"series_type\": \"MICRO       \", \"ar_coef\": -0.6214857137068632, \"mets_coef\": -0.7755102040816326, \"MSE_Ratio\": -8.731106667097558}, {\"mets_mse\": 0.11769418168363727, \"ar_mse\": 0.12609750287555585, \"series_type\": \"MICRO       \", \"ar_coef\": -0.5559441753162208, \"mets_coef\": -0.7755102040816326, \"MSE_Ratio\": -6.664145601845679}, {\"mets_mse\": 0.07358368127417077, \"ar_mse\": 0.08112202398955357, \"series_type\": \"MICRO       \", \"ar_coef\": -0.43623824249242393, \"mets_coef\": -0.693877551020408, \"MSE_Ratio\": -9.29259693564049}, {\"mets_mse\": 0.12851115660654416, \"ar_mse\": 0.13545010337569327, \"series_type\": \"MICRO       \", \"ar_coef\": -0.4795479135902883, \"mets_coef\": -0.6122448979591835, \"MSE_Ratio\": -5.122880378985603}, {\"mets_mse\": 0.3132651811207033, \"ar_mse\": 0.3640312013116677, \"series_type\": \"MICRO       \", \"ar_coef\": -0.49557948213456227, \"mets_coef\": -0.7755102040816326, \"MSE_Ratio\": -13.94551346369367}, {\"mets_mse\": 0.047058374761696796, \"ar_mse\": 0.05070663670397876, \"series_type\": \"MICRO       \", \"ar_coef\": -0.4102662521733996, \"mets_coef\": -0.6122448979591835, \"MSE_Ratio\": -7.194841108433633}, {\"mets_mse\": 0.46639209151262634, \"ar_mse\": 0.5126594539850797, \"series_type\": \"MICRO       \", \"ar_coef\": -0.40907722628423193, \"mets_coef\": -0.693877551020408, \"MSE_Ratio\": -9.024970106920128}, {\"mets_mse\": 0.03682885542404195, \"ar_mse\": 0.04003738516976509, \"series_type\": \"MICRO       \", \"ar_coef\": -0.4305474164313927, \"mets_coef\": -0.693877551020408, \"MSE_Ratio\": -8.013834400319729}, {\"mets_mse\": 0.24602217815464705, \"ar_mse\": 0.26114336631619045, \"series_type\": \"MICRO       \", \"ar_coef\": -0.4018115173017519, \"mets_coef\": -0.6122448979591835, \"MSE_Ratio\": -5.790378049747116}, {\"mets_mse\": 0.07591174400542045, \"ar_mse\": 0.08396620656636526, \"series_type\": \"MICRO       \", \"ar_coef\": -0.3739370887131417, \"mets_coef\": -0.693877551020408, \"MSE_Ratio\": -9.592504997327378}, {\"mets_mse\": 0.0674029663658758, \"ar_mse\": 0.07908298994397377, \"series_type\": \"MICRO       \", \"ar_coef\": -0.552107708478407, \"mets_coef\": -0.8571428571428568, \"MSE_Ratio\": -14.769324713661769}, {\"mets_mse\": 0.19142659562171213, \"ar_mse\": 0.2210425028582997, \"series_type\": \"MICRO       \", \"ar_coef\": -0.494740160138523, \"mets_coef\": -0.693877551020408, \"MSE_Ratio\": -13.39828623618734}, {\"mets_mse\": 0.18641293191384345, \"ar_mse\": 0.2134601359196357, \"series_type\": \"MICRO       \", \"ar_coef\": -0.5953037886233891, \"mets_coef\": -0.7755102040816326, \"MSE_Ratio\": -12.670845490314447}, {\"mets_mse\": 0.25224500974569136, \"ar_mse\": 0.27826724943204667, \"series_type\": \"MICRO       \", \"ar_coef\": -0.4973969306060178, \"mets_coef\": -0.7755102040816326, \"MSE_Ratio\": -9.351527978756977}, {\"mets_mse\": 0.1460342586050467, \"ar_mse\": 0.1571607206863984, \"series_type\": \"MICRO       \", \"ar_coef\": -0.5122053750061798, \"mets_coef\": -0.693877551020408, \"MSE_Ratio\": -7.0796710735080195}, {\"mets_mse\": 0.09178614181517052, \"ar_mse\": 0.10554382862233533, \"series_type\": \"MICRO       \", \"ar_coef\": -0.4470852765638474, \"mets_coef\": -0.7755102040816326, \"MSE_Ratio\": -13.03504618578276}, {\"mets_mse\": 0.0973262354761601, \"ar_mse\": 0.11780093763365285, \"series_type\": \"MICRO       \", \"ar_coef\": -0.5323963409573863, \"mets_coef\": -0.9387755102040813, \"MSE_Ratio\": -17.380763318851233}, {\"mets_mse\": 0.17933122783213132, \"ar_mse\": 0.21100602892440015, \"series_type\": \"MICRO       \", \"ar_coef\": -0.49819750721887807, \"mets_coef\": -0.8571428571428568, \"MSE_Ratio\": -15.011325152049269}, {\"mets_mse\": 0.11388125650672815, \"ar_mse\": 0.12632966442365134, \"series_type\": \"MICRO       \", \"ar_coef\": -0.5917054809886352, \"mets_coef\": -0.7755102040816326, \"MSE_Ratio\": -9.853907214679989}, {\"mets_mse\": 0.09968464855461845, \"ar_mse\": 0.1149802671664771, \"series_type\": \"MICRO       \", \"ar_coef\": -0.4897746565574561, \"mets_coef\": -0.7755102040816326, \"MSE_Ratio\": -13.302820552427917}, {\"mets_mse\": 0.19118928522404233, \"ar_mse\": 0.22267990046039635, \"series_type\": \"MICRO       \", \"ar_coef\": -0.523109320826631, \"mets_coef\": -0.8571428571428568, \"MSE_Ratio\": -14.14165138894277}, {\"mets_mse\": 0.07171651869335434, \"ar_mse\": 0.09276811965672381, \"series_type\": \"MICRO       \", \"ar_coef\": -0.45478059785288766, \"mets_coef\": -1.020408163265306, \"MSE_Ratio\": -22.692710643773037}, {\"mets_mse\": 0.2962494559625241, \"ar_mse\": 0.33123317858760387, \"series_type\": \"MICRO       \", \"ar_coef\": -0.45714787582058714, \"mets_coef\": -0.6122448979591835, \"MSE_Ratio\": -10.561660149581705}, {\"mets_mse\": 0.0828395265419054, \"ar_mse\": 0.09183401847702492, \"series_type\": \"MICRO       \", \"ar_coef\": -0.5055927088800747, \"mets_coef\": -0.693877551020408, \"MSE_Ratio\": -9.794292011047915}, {\"mets_mse\": 0.1855738002727244, \"ar_mse\": 0.19238355223346068, \"series_type\": \"MICRO       \", \"ar_coef\": -0.4352244529400506, \"mets_coef\": -0.5306122448979589, \"MSE_Ratio\": -3.5396747183836808}, {\"mets_mse\": 0.17166853753417755, \"ar_mse\": 0.20917297537131296, \"series_type\": \"MICRO       \", \"ar_coef\": -0.4980756040150694, \"mets_coef\": -0.8571428571428568, \"MSE_Ratio\": -17.9298677425033}, {\"mets_mse\": 0.14408277307106374, \"ar_mse\": 0.16038407503426266, \"series_type\": \"MICRO       \", \"ar_coef\": -0.5414256107386413, \"mets_coef\": -0.7755102040816326, \"MSE_Ratio\": -10.163915563135864}, {\"mets_mse\": 0.18687191266843506, \"ar_mse\": 0.2360389541389075, \"series_type\": \"MICRO       \", \"ar_coef\": -0.6046570355477032, \"mets_coef\": -1.020408163265306, \"MSE_Ratio\": -20.830053941663344}, {\"mets_mse\": 0.03821591565632445, \"ar_mse\": 0.054577584198362505, \"series_type\": \"MICRO       \", \"ar_coef\": -0.6253598446989382, \"mets_coef\": -1.1836734693877546, \"MSE_Ratio\": -29.97873354484048}, {\"mets_mse\": 0.23925848696500507, \"ar_mse\": 0.25344076895010526, \"series_type\": \"MICRO       \", \"ar_coef\": -0.553860674694628, \"mets_coef\": -0.7755102040816326, \"MSE_Ratio\": -5.595896052498264}, {\"mets_mse\": 0.06307794827190491, \"ar_mse\": 0.07833293759637475, \"series_type\": \"MICRO       \", \"ar_coef\": -0.5182880339852098, \"mets_coef\": -0.9387755102040813, \"MSE_Ratio\": -19.47455284145483}, {\"mets_mse\": 0.10736206092133967, \"ar_mse\": 0.12035842227925278, \"series_type\": \"MICRO       \", \"ar_coef\": -0.523741899378502, \"mets_coef\": -0.7755102040816326, \"MSE_Ratio\": -10.798048953947951}, {\"mets_mse\": 0.11873613961682128, \"ar_mse\": 0.1258432893844835, \"series_type\": \"MICRO       \", \"ar_coef\": -0.512367890018825, \"mets_coef\": -0.693877551020408, \"MSE_Ratio\": -5.647619195607685}]}}, {\"mode\": \"vega-lite\"});\n",
       "</script>"
      ],
      "text/plain": [
       "alt.Chart(...)"
      ]
     },
     "execution_count": 54,
     "metadata": {},
     "output_type": "execute_result"
    }
   ],
   "source": [
    "(altair.Chart(monthly_est_df, title = 'Monthly M3 Estimation')\n",
    " .mark_point()\n",
    " .encode(x=altair.X('mets_coef', title = 'METS Coefficient'),\n",
    "         y=altair.Y('MSE_Ratio',title = 'Ratio of MSE'),\n",
    "         color=altair.Color('series_type', title = 'Series Type') )\n",
    ")"
   ]
  },
  {
   "cell_type": "markdown",
   "metadata": {},
   "source": [
    "# Old code"
   ]
  },
  {
   "cell_type": "code",
   "execution_count": 92,
   "metadata": {},
   "outputs": [
    {
     "data": {
      "text/plain": [
       "645"
      ]
     },
     "execution_count": 92,
     "metadata": {},
     "output_type": "execute_result"
    }
   ],
   "source": [
    "len(error_df)"
   ]
  },
  {
   "cell_type": "code",
   "execution_count": 93,
   "metadata": {},
   "outputs": [
    {
     "data": {
      "text/plain": [
       "<matplotlib.axes._subplots.AxesSubplot at 0x229b4245cd0>"
      ]
     },
     "execution_count": 93,
     "metadata": {},
     "output_type": "execute_result"
    },
    {
     "data": {
      "image/png": "[encoded data removed]",
      "text/plain": [
       "<Figure size 432x288 with 1 Axes>"
      ]
     },
     "metadata": {
      "needs_background": "light"
     },
     "output_type": "display_data"
    }
   ],
   "source": [
    "coef_df = pd.DataFrame({'mets_rho':mets_coef, 'ar_rho':ar_coef})\n",
    "coef_df.plot.scatter(x='ar_rho',y='mets_rho')"
   ]
  },
  {
   "cell_type": "code",
   "execution_count": 91,
   "metadata": {},
   "outputs": [
    {
     "data": {
      "text/plain": [
       "0.57984496124031"
      ]
     },
     "execution_count": 91,
     "metadata": {},
     "output_type": "execute_result"
    }
   ],
   "source": [
    "len(error_df.query('mets_mse < ar_mse'))/len(error_df)"
   ]
  },
  {
   "cell_type": "code",
   "execution_count": 84,
   "metadata": {},
   "outputs": [
    {
     "data": {
      "text/plain": [
       "<matplotlib.axes._subplots.AxesSubplot at 0x229b5bce430>"
      ]
     },
     "execution_count": 84,
     "metadata": {},
     "output_type": "execute_result"
    },
    {
     "data": {
      "image/png": "[encoded data removed]",
      "text/plain": [
       "<Figure size 432x288 with 1 Axes>"
      ]
     },
     "metadata": {
      "needs_background": "light"
     },
     "output_type": "display_data"
    }
   ],
   "source": [
    "coef_df['ar_rho'].hist()"
   ]
  },
  {
   "cell_type": "code",
   "execution_count": 85,
   "metadata": {},
   "outputs": [
    {
     "data": {
      "text/plain": [
       "<matplotlib.axes._subplots.AxesSubplot at 0x229b5a73910>"
      ]
     },
     "execution_count": 85,
     "metadata": {},
     "output_type": "execute_result"
    },
    {
     "data": {
      "image/png": "[encoded data removed]",
      "text/plain": [
       "<Figure size 432x288 with 1 Axes>"
      ]
     },
     "metadata": {
      "needs_background": "light"
     },
     "output_type": "display_data"
    }
   ],
   "source": [
    "coef_df['mets_rho'].hist()"
   ]
  },
  {
   "cell_type": "code",
   "execution_count": 86,
   "metadata": {},
   "outputs": [
    {
     "data": {
      "text/plain": [
       "<matplotlib.axes._subplots.AxesSubplot at 0x229b5cfcf40>"
      ]
     },
     "execution_count": 86,
     "metadata": {},
     "output_type": "execute_result"
    },
    {
     "data": {
      "image/png": "[encoded data removed]",
      "text/plain": [
       "<Figure size 432x288 with 1 Axes>"
      ]
     },
     "metadata": {
      "needs_background": "light"
     },
     "output_type": "display_data"
    }
   ],
   "source": [
    "pd.DataFrame(ts).plot()"
   ]
  },
  {
   "cell_type": "code",
   "execution_count": 98,
   "metadata": {},
   "outputs": [
    {
     "data": {
      "text/plain": [
       "<matplotlib.axes._subplots.AxesSubplot at 0x229b5df47c0>"
      ]
     },
     "execution_count": 98,
     "metadata": {},
     "output_type": "execute_result"
    },
    {
     "data": {
      "image/png": "[encoded data removed]",
      "text/plain": [
       "<Figure size 432x288 with 1 Axes>"
      ]
     },
     "metadata": {
      "needs_background": "light"
     },
     "output_type": "display_data"
    },
    {
     "data": {
      "image/png": "[encoded data removed]",
      "text/plain": [
       "<Figure size 432x288 with 1 Axes>"
      ]
     },
     "metadata": {
      "needs_background": "light"
     },
     "output_type": "display_data"
    }
   ],
   "source": [
    "fitted_df = pd.DataFrame({'mets_rho':mets_coef, 'ar_rho':ar_coef,\n",
    "                         'mets_mse':mets_mse, 'ar_mse':ar_mse})\n",
    "fitted_df['mse_ratio'] = (fitted_df['mets_mse'] - fitted_df['ar_mse'])/fitted_df['ar_mse']\n",
    "fitted_df.plot.scatter(x='ar_rho',y = 'mse_ratio')\n",
    "fitted_df.plot.scatter(x='mets_rho',y = 'mse_ratio')"
   ]
  },
  {
   "cell_type": "code",
   "execution_count": null,
   "metadata": {},
   "outputs": [],
   "source": []
  }
 ],
 "metadata": {
  "kernelspec": {
   "display_name": "Python 3",
   "language": "python",
   "name": "python3"
  },
  "language_info": {
   "codemirror_mode": {
    "name": "ipython",
    "version": 3
   },
   "file_extension": ".py",
   "mimetype": "text/x-python",
   "name": "python",
   "nbconvert_exporter": "python",
   "pygments_lexer": "ipython3",
   "version": "3.8.3"
  }
 },
 "nbformat": 4,
 "nbformat_minor": 4
}
